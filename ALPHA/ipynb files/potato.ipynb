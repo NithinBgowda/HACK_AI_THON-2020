{
  "nbformat": 4,
  "nbformat_minor": 0,
  "metadata": {
    "colab": {
      "name": "potato.ipynb",
      "provenance": [],
      "collapsed_sections": []
    },
    "kernelspec": {
      "name": "python3",
      "display_name": "Python 3"
    },
    "widgets": {
      "application/vnd.jupyter.widget-state+json": {
        "6421eb4cc88d4132b3e8bd3b730d6db2": {
          "model_module": "@jupyter-widgets/controls",
          "model_name": "HBoxModel",
          "state": {
            "_view_name": "HBoxView",
            "_dom_classes": [],
            "_model_name": "HBoxModel",
            "_view_module": "@jupyter-widgets/controls",
            "_model_module_version": "1.5.0",
            "_view_count": null,
            "_view_module_version": "1.5.0",
            "box_style": "",
            "layout": "IPY_MODEL_7952541e53544be59ba2f1a4f87fdd7f",
            "_model_module": "@jupyter-widgets/controls",
            "children": [
              "IPY_MODEL_e239b8b8fd0a4fe483f379b1af20b6fc",
              "IPY_MODEL_e59805e86c2c4c4ab787b8817a20894a"
            ]
          }
        },
        "7952541e53544be59ba2f1a4f87fdd7f": {
          "model_module": "@jupyter-widgets/base",
          "model_name": "LayoutModel",
          "state": {
            "_view_name": "LayoutView",
            "grid_template_rows": null,
            "right": null,
            "justify_content": null,
            "_view_module": "@jupyter-widgets/base",
            "overflow": null,
            "_model_module_version": "1.2.0",
            "_view_count": null,
            "flex_flow": null,
            "width": null,
            "min_width": null,
            "border": null,
            "align_items": null,
            "bottom": null,
            "_model_module": "@jupyter-widgets/base",
            "top": null,
            "grid_column": null,
            "overflow_y": null,
            "overflow_x": null,
            "grid_auto_flow": null,
            "grid_area": null,
            "grid_template_columns": null,
            "flex": null,
            "_model_name": "LayoutModel",
            "justify_items": null,
            "grid_row": null,
            "max_height": null,
            "align_content": null,
            "visibility": null,
            "align_self": null,
            "height": null,
            "min_height": null,
            "padding": null,
            "grid_auto_rows": null,
            "grid_gap": null,
            "max_width": null,
            "order": null,
            "_view_module_version": "1.2.0",
            "grid_template_areas": null,
            "object_position": null,
            "object_fit": null,
            "grid_auto_columns": null,
            "margin": null,
            "display": null,
            "left": null
          }
        },
        "e239b8b8fd0a4fe483f379b1af20b6fc": {
          "model_module": "@jupyter-widgets/controls",
          "model_name": "FloatProgressModel",
          "state": {
            "_view_name": "ProgressView",
            "style": "IPY_MODEL_c03dc9a4e0504f6281f3daee45edb28d",
            "_dom_classes": [],
            "description": "Dl Completed...: ",
            "_model_name": "FloatProgressModel",
            "bar_style": "success",
            "max": 1,
            "_view_module": "@jupyter-widgets/controls",
            "_model_module_version": "1.5.0",
            "value": 0,
            "_view_count": null,
            "_view_module_version": "1.5.0",
            "orientation": "horizontal",
            "min": 0,
            "description_tooltip": null,
            "_model_module": "@jupyter-widgets/controls",
            "layout": "IPY_MODEL_ae2a3e6134a540b8bd9d38a09cdcf18c"
          }
        },
        "e59805e86c2c4c4ab787b8817a20894a": {
          "model_module": "@jupyter-widgets/controls",
          "model_name": "HTMLModel",
          "state": {
            "_view_name": "HTMLView",
            "style": "IPY_MODEL_e33dea573aaa4ea4a5ec30cf7b500259",
            "_dom_classes": [],
            "description": "",
            "_model_name": "HTMLModel",
            "placeholder": "​",
            "_view_module": "@jupyter-widgets/controls",
            "_model_module_version": "1.5.0",
            "value": " 0/0 [00:00&lt;?, ? url/s]",
            "_view_count": null,
            "_view_module_version": "1.5.0",
            "description_tooltip": null,
            "_model_module": "@jupyter-widgets/controls",
            "layout": "IPY_MODEL_8e988750592f479aabf7c7d625f3b2c2"
          }
        },
        "c03dc9a4e0504f6281f3daee45edb28d": {
          "model_module": "@jupyter-widgets/controls",
          "model_name": "ProgressStyleModel",
          "state": {
            "_view_name": "StyleView",
            "_model_name": "ProgressStyleModel",
            "description_width": "initial",
            "_view_module": "@jupyter-widgets/base",
            "_model_module_version": "1.5.0",
            "_view_count": null,
            "_view_module_version": "1.2.0",
            "bar_color": null,
            "_model_module": "@jupyter-widgets/controls"
          }
        },
        "ae2a3e6134a540b8bd9d38a09cdcf18c": {
          "model_module": "@jupyter-widgets/base",
          "model_name": "LayoutModel",
          "state": {
            "_view_name": "LayoutView",
            "grid_template_rows": null,
            "right": null,
            "justify_content": null,
            "_view_module": "@jupyter-widgets/base",
            "overflow": null,
            "_model_module_version": "1.2.0",
            "_view_count": null,
            "flex_flow": null,
            "width": null,
            "min_width": null,
            "border": null,
            "align_items": null,
            "bottom": null,
            "_model_module": "@jupyter-widgets/base",
            "top": null,
            "grid_column": null,
            "overflow_y": null,
            "overflow_x": null,
            "grid_auto_flow": null,
            "grid_area": null,
            "grid_template_columns": null,
            "flex": null,
            "_model_name": "LayoutModel",
            "justify_items": null,
            "grid_row": null,
            "max_height": null,
            "align_content": null,
            "visibility": null,
            "align_self": null,
            "height": null,
            "min_height": null,
            "padding": null,
            "grid_auto_rows": null,
            "grid_gap": null,
            "max_width": null,
            "order": null,
            "_view_module_version": "1.2.0",
            "grid_template_areas": null,
            "object_position": null,
            "object_fit": null,
            "grid_auto_columns": null,
            "margin": null,
            "display": null,
            "left": null
          }
        },
        "e33dea573aaa4ea4a5ec30cf7b500259": {
          "model_module": "@jupyter-widgets/controls",
          "model_name": "DescriptionStyleModel",
          "state": {
            "_view_name": "StyleView",
            "_model_name": "DescriptionStyleModel",
            "description_width": "",
            "_view_module": "@jupyter-widgets/base",
            "_model_module_version": "1.5.0",
            "_view_count": null,
            "_view_module_version": "1.2.0",
            "_model_module": "@jupyter-widgets/controls"
          }
        },
        "8e988750592f479aabf7c7d625f3b2c2": {
          "model_module": "@jupyter-widgets/base",
          "model_name": "LayoutModel",
          "state": {
            "_view_name": "LayoutView",
            "grid_template_rows": null,
            "right": null,
            "justify_content": null,
            "_view_module": "@jupyter-widgets/base",
            "overflow": null,
            "_model_module_version": "1.2.0",
            "_view_count": null,
            "flex_flow": null,
            "width": null,
            "min_width": null,
            "border": null,
            "align_items": null,
            "bottom": null,
            "_model_module": "@jupyter-widgets/base",
            "top": null,
            "grid_column": null,
            "overflow_y": null,
            "overflow_x": null,
            "grid_auto_flow": null,
            "grid_area": null,
            "grid_template_columns": null,
            "flex": null,
            "_model_name": "LayoutModel",
            "justify_items": null,
            "grid_row": null,
            "max_height": null,
            "align_content": null,
            "visibility": null,
            "align_self": null,
            "height": null,
            "min_height": null,
            "padding": null,
            "grid_auto_rows": null,
            "grid_gap": null,
            "max_width": null,
            "order": null,
            "_view_module_version": "1.2.0",
            "grid_template_areas": null,
            "object_position": null,
            "object_fit": null,
            "grid_auto_columns": null,
            "margin": null,
            "display": null,
            "left": null
          }
        },
        "d2255a46af24422fa4a8c704bc2a1335": {
          "model_module": "@jupyter-widgets/controls",
          "model_name": "HBoxModel",
          "state": {
            "_view_name": "HBoxView",
            "_dom_classes": [],
            "_model_name": "HBoxModel",
            "_view_module": "@jupyter-widgets/controls",
            "_model_module_version": "1.5.0",
            "_view_count": null,
            "_view_module_version": "1.5.0",
            "box_style": "",
            "layout": "IPY_MODEL_f6719df7ac8c4cd3b3dae280b7430d50",
            "_model_module": "@jupyter-widgets/controls",
            "children": [
              "IPY_MODEL_cc17a905c6e24b49bc629eb8b061cb63",
              "IPY_MODEL_e1421d5bc12d4f7bba9c10e32de4501f"
            ]
          }
        },
        "f6719df7ac8c4cd3b3dae280b7430d50": {
          "model_module": "@jupyter-widgets/base",
          "model_name": "LayoutModel",
          "state": {
            "_view_name": "LayoutView",
            "grid_template_rows": null,
            "right": null,
            "justify_content": null,
            "_view_module": "@jupyter-widgets/base",
            "overflow": null,
            "_model_module_version": "1.2.0",
            "_view_count": null,
            "flex_flow": null,
            "width": null,
            "min_width": null,
            "border": null,
            "align_items": null,
            "bottom": null,
            "_model_module": "@jupyter-widgets/base",
            "top": null,
            "grid_column": null,
            "overflow_y": null,
            "overflow_x": null,
            "grid_auto_flow": null,
            "grid_area": null,
            "grid_template_columns": null,
            "flex": null,
            "_model_name": "LayoutModel",
            "justify_items": null,
            "grid_row": null,
            "max_height": null,
            "align_content": null,
            "visibility": null,
            "align_self": null,
            "height": null,
            "min_height": null,
            "padding": null,
            "grid_auto_rows": null,
            "grid_gap": null,
            "max_width": null,
            "order": null,
            "_view_module_version": "1.2.0",
            "grid_template_areas": null,
            "object_position": null,
            "object_fit": null,
            "grid_auto_columns": null,
            "margin": null,
            "display": null,
            "left": null
          }
        },
        "cc17a905c6e24b49bc629eb8b061cb63": {
          "model_module": "@jupyter-widgets/controls",
          "model_name": "FloatProgressModel",
          "state": {
            "_view_name": "ProgressView",
            "style": "IPY_MODEL_e7492134af764db0afcb546dbb2124aa",
            "_dom_classes": [],
            "description": "Dl Size...: ",
            "_model_name": "FloatProgressModel",
            "bar_style": "success",
            "max": 1,
            "_view_module": "@jupyter-widgets/controls",
            "_model_module_version": "1.5.0",
            "value": 0,
            "_view_count": null,
            "_view_module_version": "1.5.0",
            "orientation": "horizontal",
            "min": 0,
            "description_tooltip": null,
            "_model_module": "@jupyter-widgets/controls",
            "layout": "IPY_MODEL_c3e5d18e551a4e499652477c413fc40a"
          }
        },
        "e1421d5bc12d4f7bba9c10e32de4501f": {
          "model_module": "@jupyter-widgets/controls",
          "model_name": "HTMLModel",
          "state": {
            "_view_name": "HTMLView",
            "style": "IPY_MODEL_2ff148659bce4ee189f3d5079606a12f",
            "_dom_classes": [],
            "description": "",
            "_model_name": "HTMLModel",
            "placeholder": "​",
            "_view_module": "@jupyter-widgets/controls",
            "_model_module_version": "1.5.0",
            "value": " 0/0 [00:00&lt;?, ? MiB/s]",
            "_view_count": null,
            "_view_module_version": "1.5.0",
            "description_tooltip": null,
            "_model_module": "@jupyter-widgets/controls",
            "layout": "IPY_MODEL_2c3618e930ea4d559a95a7853c67747b"
          }
        },
        "e7492134af764db0afcb546dbb2124aa": {
          "model_module": "@jupyter-widgets/controls",
          "model_name": "ProgressStyleModel",
          "state": {
            "_view_name": "StyleView",
            "_model_name": "ProgressStyleModel",
            "description_width": "initial",
            "_view_module": "@jupyter-widgets/base",
            "_model_module_version": "1.5.0",
            "_view_count": null,
            "_view_module_version": "1.2.0",
            "bar_color": null,
            "_model_module": "@jupyter-widgets/controls"
          }
        },
        "c3e5d18e551a4e499652477c413fc40a": {
          "model_module": "@jupyter-widgets/base",
          "model_name": "LayoutModel",
          "state": {
            "_view_name": "LayoutView",
            "grid_template_rows": null,
            "right": null,
            "justify_content": null,
            "_view_module": "@jupyter-widgets/base",
            "overflow": null,
            "_model_module_version": "1.2.0",
            "_view_count": null,
            "flex_flow": null,
            "width": null,
            "min_width": null,
            "border": null,
            "align_items": null,
            "bottom": null,
            "_model_module": "@jupyter-widgets/base",
            "top": null,
            "grid_column": null,
            "overflow_y": null,
            "overflow_x": null,
            "grid_auto_flow": null,
            "grid_area": null,
            "grid_template_columns": null,
            "flex": null,
            "_model_name": "LayoutModel",
            "justify_items": null,
            "grid_row": null,
            "max_height": null,
            "align_content": null,
            "visibility": null,
            "align_self": null,
            "height": null,
            "min_height": null,
            "padding": null,
            "grid_auto_rows": null,
            "grid_gap": null,
            "max_width": null,
            "order": null,
            "_view_module_version": "1.2.0",
            "grid_template_areas": null,
            "object_position": null,
            "object_fit": null,
            "grid_auto_columns": null,
            "margin": null,
            "display": null,
            "left": null
          }
        },
        "2ff148659bce4ee189f3d5079606a12f": {
          "model_module": "@jupyter-widgets/controls",
          "model_name": "DescriptionStyleModel",
          "state": {
            "_view_name": "StyleView",
            "_model_name": "DescriptionStyleModel",
            "description_width": "",
            "_view_module": "@jupyter-widgets/base",
            "_model_module_version": "1.5.0",
            "_view_count": null,
            "_view_module_version": "1.2.0",
            "_model_module": "@jupyter-widgets/controls"
          }
        },
        "2c3618e930ea4d559a95a7853c67747b": {
          "model_module": "@jupyter-widgets/base",
          "model_name": "LayoutModel",
          "state": {
            "_view_name": "LayoutView",
            "grid_template_rows": null,
            "right": null,
            "justify_content": null,
            "_view_module": "@jupyter-widgets/base",
            "overflow": null,
            "_model_module_version": "1.2.0",
            "_view_count": null,
            "flex_flow": null,
            "width": null,
            "min_width": null,
            "border": null,
            "align_items": null,
            "bottom": null,
            "_model_module": "@jupyter-widgets/base",
            "top": null,
            "grid_column": null,
            "overflow_y": null,
            "overflow_x": null,
            "grid_auto_flow": null,
            "grid_area": null,
            "grid_template_columns": null,
            "flex": null,
            "_model_name": "LayoutModel",
            "justify_items": null,
            "grid_row": null,
            "max_height": null,
            "align_content": null,
            "visibility": null,
            "align_self": null,
            "height": null,
            "min_height": null,
            "padding": null,
            "grid_auto_rows": null,
            "grid_gap": null,
            "max_width": null,
            "order": null,
            "_view_module_version": "1.2.0",
            "grid_template_areas": null,
            "object_position": null,
            "object_fit": null,
            "grid_auto_columns": null,
            "margin": null,
            "display": null,
            "left": null
          }
        },
        "a5066ad430e54d33acf19e6141591b8c": {
          "model_module": "@jupyter-widgets/controls",
          "model_name": "HBoxModel",
          "state": {
            "_view_name": "HBoxView",
            "_dom_classes": [],
            "_model_name": "HBoxModel",
            "_view_module": "@jupyter-widgets/controls",
            "_model_module_version": "1.5.0",
            "_view_count": null,
            "_view_module_version": "1.5.0",
            "box_style": "",
            "layout": "IPY_MODEL_cdaaa06b2a1047d6809ecc1aa618202b",
            "_model_module": "@jupyter-widgets/controls",
            "children": [
              "IPY_MODEL_3d86d16bdf2743f1a3ce22d3f1877cb8",
              "IPY_MODEL_f879f3d4db6a4ad2b21a6ab7ac2ac348"
            ]
          }
        },
        "cdaaa06b2a1047d6809ecc1aa618202b": {
          "model_module": "@jupyter-widgets/base",
          "model_name": "LayoutModel",
          "state": {
            "_view_name": "LayoutView",
            "grid_template_rows": null,
            "right": null,
            "justify_content": null,
            "_view_module": "@jupyter-widgets/base",
            "overflow": null,
            "_model_module_version": "1.2.0",
            "_view_count": null,
            "flex_flow": null,
            "width": null,
            "min_width": null,
            "border": null,
            "align_items": null,
            "bottom": null,
            "_model_module": "@jupyter-widgets/base",
            "top": null,
            "grid_column": null,
            "overflow_y": null,
            "overflow_x": null,
            "grid_auto_flow": null,
            "grid_area": null,
            "grid_template_columns": null,
            "flex": null,
            "_model_name": "LayoutModel",
            "justify_items": null,
            "grid_row": null,
            "max_height": null,
            "align_content": null,
            "visibility": null,
            "align_self": null,
            "height": null,
            "min_height": null,
            "padding": null,
            "grid_auto_rows": null,
            "grid_gap": null,
            "max_width": null,
            "order": null,
            "_view_module_version": "1.2.0",
            "grid_template_areas": null,
            "object_position": null,
            "object_fit": null,
            "grid_auto_columns": null,
            "margin": null,
            "display": null,
            "left": null
          }
        },
        "3d86d16bdf2743f1a3ce22d3f1877cb8": {
          "model_module": "@jupyter-widgets/controls",
          "model_name": "FloatProgressModel",
          "state": {
            "_view_name": "ProgressView",
            "style": "IPY_MODEL_9453b3ef08254d47aa513af50cdf633e",
            "_dom_classes": [],
            "description": "Extraction completed...: ",
            "_model_name": "FloatProgressModel",
            "bar_style": "success",
            "max": 1,
            "_view_module": "@jupyter-widgets/controls",
            "_model_module_version": "1.5.0",
            "value": 0,
            "_view_count": null,
            "_view_module_version": "1.5.0",
            "orientation": "horizontal",
            "min": 0,
            "description_tooltip": null,
            "_model_module": "@jupyter-widgets/controls",
            "layout": "IPY_MODEL_f6bbff43b9ad4cfe8e0e13438ccd2aa3"
          }
        },
        "f879f3d4db6a4ad2b21a6ab7ac2ac348": {
          "model_module": "@jupyter-widgets/controls",
          "model_name": "HTMLModel",
          "state": {
            "_view_name": "HTMLView",
            "style": "IPY_MODEL_c6137a4336424286bca29daf30c7723f",
            "_dom_classes": [],
            "description": "",
            "_model_name": "HTMLModel",
            "placeholder": "​",
            "_view_module": "@jupyter-widgets/controls",
            "_model_module_version": "1.5.0",
            "value": " 0/0 [00:00&lt;?, ? file/s]",
            "_view_count": null,
            "_view_module_version": "1.5.0",
            "description_tooltip": null,
            "_model_module": "@jupyter-widgets/controls",
            "layout": "IPY_MODEL_372e102451ac4db89ab7e29d7588ac42"
          }
        },
        "9453b3ef08254d47aa513af50cdf633e": {
          "model_module": "@jupyter-widgets/controls",
          "model_name": "ProgressStyleModel",
          "state": {
            "_view_name": "StyleView",
            "_model_name": "ProgressStyleModel",
            "description_width": "initial",
            "_view_module": "@jupyter-widgets/base",
            "_model_module_version": "1.5.0",
            "_view_count": null,
            "_view_module_version": "1.2.0",
            "bar_color": null,
            "_model_module": "@jupyter-widgets/controls"
          }
        },
        "f6bbff43b9ad4cfe8e0e13438ccd2aa3": {
          "model_module": "@jupyter-widgets/base",
          "model_name": "LayoutModel",
          "state": {
            "_view_name": "LayoutView",
            "grid_template_rows": null,
            "right": null,
            "justify_content": null,
            "_view_module": "@jupyter-widgets/base",
            "overflow": null,
            "_model_module_version": "1.2.0",
            "_view_count": null,
            "flex_flow": null,
            "width": null,
            "min_width": null,
            "border": null,
            "align_items": null,
            "bottom": null,
            "_model_module": "@jupyter-widgets/base",
            "top": null,
            "grid_column": null,
            "overflow_y": null,
            "overflow_x": null,
            "grid_auto_flow": null,
            "grid_area": null,
            "grid_template_columns": null,
            "flex": null,
            "_model_name": "LayoutModel",
            "justify_items": null,
            "grid_row": null,
            "max_height": null,
            "align_content": null,
            "visibility": null,
            "align_self": null,
            "height": null,
            "min_height": null,
            "padding": null,
            "grid_auto_rows": null,
            "grid_gap": null,
            "max_width": null,
            "order": null,
            "_view_module_version": "1.2.0",
            "grid_template_areas": null,
            "object_position": null,
            "object_fit": null,
            "grid_auto_columns": null,
            "margin": null,
            "display": null,
            "left": null
          }
        },
        "c6137a4336424286bca29daf30c7723f": {
          "model_module": "@jupyter-widgets/controls",
          "model_name": "DescriptionStyleModel",
          "state": {
            "_view_name": "StyleView",
            "_model_name": "DescriptionStyleModel",
            "description_width": "",
            "_view_module": "@jupyter-widgets/base",
            "_model_module_version": "1.5.0",
            "_view_count": null,
            "_view_module_version": "1.2.0",
            "_model_module": "@jupyter-widgets/controls"
          }
        },
        "372e102451ac4db89ab7e29d7588ac42": {
          "model_module": "@jupyter-widgets/base",
          "model_name": "LayoutModel",
          "state": {
            "_view_name": "LayoutView",
            "grid_template_rows": null,
            "right": null,
            "justify_content": null,
            "_view_module": "@jupyter-widgets/base",
            "overflow": null,
            "_model_module_version": "1.2.0",
            "_view_count": null,
            "flex_flow": null,
            "width": null,
            "min_width": null,
            "border": null,
            "align_items": null,
            "bottom": null,
            "_model_module": "@jupyter-widgets/base",
            "top": null,
            "grid_column": null,
            "overflow_y": null,
            "overflow_x": null,
            "grid_auto_flow": null,
            "grid_area": null,
            "grid_template_columns": null,
            "flex": null,
            "_model_name": "LayoutModel",
            "justify_items": null,
            "grid_row": null,
            "max_height": null,
            "align_content": null,
            "visibility": null,
            "align_self": null,
            "height": null,
            "min_height": null,
            "padding": null,
            "grid_auto_rows": null,
            "grid_gap": null,
            "max_width": null,
            "order": null,
            "_view_module_version": "1.2.0",
            "grid_template_areas": null,
            "object_position": null,
            "object_fit": null,
            "grid_auto_columns": null,
            "margin": null,
            "display": null,
            "left": null
          }
        }
      }
    },
    "accelerator": "GPU"
  },
  "cells": [
    {
      "cell_type": "code",
      "metadata": {
        "id": "t7BUR-Teg_zO"
      },
      "source": [
        "import matplotlib.pyplot as plt\n",
        "import tensorflow as tf\n",
        "import tensorflow_datasets as tfds\n",
        "from tensorflow import keras\n",
        "from tensorflow.keras import layers\n",
        "from tensorflow.keras.models import Sequential"
      ],
      "execution_count": null,
      "outputs": []
    },
    {
      "cell_type": "code",
      "metadata": {
        "id": "02STKxDks5nX"
      },
      "source": [
        "dl_file=tfds.download.DownloadManager(download_dir='/content/sample_data')"
      ],
      "execution_count": null,
      "outputs": []
    },
    {
      "cell_type": "code",
      "metadata": {
        "id": "aqBHOsamtEj7",
        "outputId": "57d10fbf-55c9-4b81-b944-4cae0a277e16",
        "colab": {
          "base_uri": "https://localhost:8080/",
          "height": 217,
          "referenced_widgets": [
            "6421eb4cc88d4132b3e8bd3b730d6db2",
            "7952541e53544be59ba2f1a4f87fdd7f",
            "e239b8b8fd0a4fe483f379b1af20b6fc",
            "e59805e86c2c4c4ab787b8817a20894a",
            "c03dc9a4e0504f6281f3daee45edb28d",
            "ae2a3e6134a540b8bd9d38a09cdcf18c",
            "e33dea573aaa4ea4a5ec30cf7b500259",
            "8e988750592f479aabf7c7d625f3b2c2",
            "d2255a46af24422fa4a8c704bc2a1335",
            "f6719df7ac8c4cd3b3dae280b7430d50",
            "cc17a905c6e24b49bc629eb8b061cb63",
            "e1421d5bc12d4f7bba9c10e32de4501f",
            "e7492134af764db0afcb546dbb2124aa",
            "c3e5d18e551a4e499652477c413fc40a",
            "2ff148659bce4ee189f3d5079606a12f",
            "2c3618e930ea4d559a95a7853c67747b",
            "a5066ad430e54d33acf19e6141591b8c",
            "cdaaa06b2a1047d6809ecc1aa618202b",
            "3d86d16bdf2743f1a3ce22d3f1877cb8",
            "f879f3d4db6a4ad2b21a6ab7ac2ac348",
            "9453b3ef08254d47aa513af50cdf633e",
            "f6bbff43b9ad4cfe8e0e13438ccd2aa3",
            "c6137a4336424286bca29daf30c7723f",
            "372e102451ac4db89ab7e29d7588ac42"
          ]
        }
      },
      "source": [
        "plant=dl_file.download_and_extract('https://md-datasets-cache-zipfiles-prod.s3.eu-west-1.amazonaws.com/tywbtsjrjv-1.zip')"
      ],
      "execution_count": null,
      "outputs": [
        {
          "output_type": "display_data",
          "data": {
            "application/vnd.jupyter.widget-view+json": {
              "model_id": "6421eb4cc88d4132b3e8bd3b730d6db2",
              "version_minor": 0,
              "version_major": 2
            },
            "text/plain": [
              "HBox(children=(FloatProgress(value=1.0, bar_style='info', description='Dl Completed...', max=1.0, style=Progre…"
            ]
          },
          "metadata": {
            "tags": []
          }
        },
        {
          "output_type": "display_data",
          "data": {
            "application/vnd.jupyter.widget-view+json": {
              "model_id": "d2255a46af24422fa4a8c704bc2a1335",
              "version_minor": 0,
              "version_major": 2
            },
            "text/plain": [
              "HBox(children=(FloatProgress(value=1.0, bar_style='info', description='Dl Size...', max=1.0, style=ProgressSty…"
            ]
          },
          "metadata": {
            "tags": []
          }
        },
        {
          "output_type": "display_data",
          "data": {
            "application/vnd.jupyter.widget-view+json": {
              "model_id": "a5066ad430e54d33acf19e6141591b8c",
              "version_minor": 0,
              "version_major": 2
            },
            "text/plain": [
              "HBox(children=(FloatProgress(value=1.0, bar_style='info', description='Extraction completed...', max=1.0, styl…"
            ]
          },
          "metadata": {
            "tags": []
          }
        },
        {
          "output_type": "stream",
          "text": [
            "\n",
            "\n",
            "\n",
            "\n",
            "\n",
            "\n"
          ],
          "name": "stdout"
        }
      ]
    },
    {
      "cell_type": "code",
      "metadata": {
        "id": "GpggA7v0tJI4"
      },
      "source": [
        "!unzip /content/sample_data/extracted/ZIP.md-data-cach-zipf-prod.s3.eu-west-1_tywb-1OAX1Gq-RqqeVcEQluIZ-WScw5j9Get4HuYeJesqkdrg.zip/Plant_leaf_diseases_dataset_with_augmentation.zip "
      ],
      "execution_count": null,
      "outputs": []
    },
    {
      "cell_type": "code",
      "metadata": {
        "id": "gkf_X7ubvSx7"
      },
      "source": [
        "mkdir potato_data "
      ],
      "execution_count": null,
      "outputs": []
    },
    {
      "cell_type": "code",
      "metadata": {
        "id": "mvzJYWJbvmFr"
      },
      "source": [
        "mv Plant_leave_diseases_dataset_with_augmentation/Potato* potato_data"
      ],
      "execution_count": null,
      "outputs": []
    },
    {
      "cell_type": "code",
      "metadata": {
        "id": "_EMYI-PMwTXp"
      },
      "source": [
        ""
      ],
      "execution_count": null,
      "outputs": []
    },
    {
      "cell_type": "code",
      "metadata": {
        "id": "kZnvOSJAaVLR"
      },
      "source": [
        ""
      ],
      "execution_count": null,
      "outputs": []
    },
    {
      "cell_type": "code",
      "metadata": {
        "id": "FM3wY6EgaWU0"
      },
      "source": [
        ""
      ],
      "execution_count": null,
      "outputs": []
    },
    {
      "cell_type": "code",
      "metadata": {
        "id": "CWctUbHG1Pw3"
      },
      "source": [
        "batch_size=32\n",
        "height=200\n",
        "width=200"
      ],
      "execution_count": null,
      "outputs": []
    },
    {
      "cell_type": "code",
      "metadata": {
        "id": "7IeLlOxkavgg"
      },
      "source": [
        "potato_data='/content/potato_data'"
      ],
      "execution_count": null,
      "outputs": []
    },
    {
      "cell_type": "code",
      "metadata": {
        "id": "T1dd3F_m1tFl",
        "outputId": "f3ef1987-93b7-476c-d1ab-b297c5b39f8f",
        "colab": {
          "base_uri": "https://localhost:8080/"
        }
      },
      "source": [
        "train_ds=tf.keras.preprocessing.image_dataset_from_directory(\n",
        "    potato_data,\n",
        "    batch_size=32,\n",
        "    image_size=(height,width),\n",
        "    seed=123,\n",
        "    validation_split=0.3,\n",
        "    subset='training'\n",
        ")"
      ],
      "execution_count": null,
      "outputs": [
        {
          "output_type": "stream",
          "text": [
            "Found 11999 files belonging to 12 classes.\n",
            "Using 8400 files for training.\n"
          ],
          "name": "stdout"
        }
      ]
    },
    {
      "cell_type": "code",
      "metadata": {
        "id": "pk6SW_Ue26Ql",
        "outputId": "125f19ea-1ae3-4408-da91-c95dee44c148",
        "colab": {
          "base_uri": "https://localhost:8080/"
        }
      },
      "source": [
        "val_ds=tf.keras.preprocessing.image_dataset_from_directory(\n",
        "    potato_data,\n",
        "    batch_size=32,\n",
        "    image_size=(height,width),\n",
        "    validation_split=0.3,\n",
        "    seed=123,\n",
        "    subset='validation'\n",
        ")"
      ],
      "execution_count": null,
      "outputs": [
        {
          "output_type": "stream",
          "text": [
            "Found 11999 files belonging to 12 classes.\n",
            "Using 3599 files for validation.\n"
          ],
          "name": "stdout"
        }
      ]
    },
    {
      "cell_type": "code",
      "metadata": {
        "id": "sFaKrmq_3uhi"
      },
      "source": [
        "class_names=train_ds.class_names"
      ],
      "execution_count": null,
      "outputs": []
    },
    {
      "cell_type": "code",
      "metadata": {
        "id": "xY_cUWVP4QFx"
      },
      "source": [
        "auto=tf.data.experimental.AUTOTUNE\n",
        "train_ds=train_ds.cache().shuffle(1000).prefetch(buffer_size=auto)\n",
        "val_ds=val_ds.cache().prefetch(buffer_size=auto)"
      ],
      "execution_count": null,
      "outputs": []
    },
    {
      "cell_type": "code",
      "metadata": {
        "id": "7K4eho835Q8A"
      },
      "source": [
        "normal_layer=layers.experimental.preprocessing.Rescaling(1./255)"
      ],
      "execution_count": null,
      "outputs": []
    },
    {
      "cell_type": "code",
      "metadata": {
        "id": "Du8j4c9D5xph"
      },
      "source": [
        "n_ds=train_ds.map(lambda x,y: (normal_layer(x),y))\n",
        "image_batch,label_batch=next(iter(n_ds))"
      ],
      "execution_count": null,
      "outputs": []
    },
    {
      "cell_type": "code",
      "metadata": {
        "id": "M71B8gQ07GnT"
      },
      "source": [
        "\n",
        "num_class=12\n",
        "model=Sequential([\n",
        "   layers.experimental.preprocessing.Rescaling(1./255,input_shape=(height,width,3)),\n",
        "   layers.Conv2D(16,3,padding='same',activation='sigmoid'),\n",
        "   layers.MaxPooling2D(),\n",
        "   layers.Conv2D(32,3,padding='same',activation='sigmoid'),\n",
        "   layers.MaxPooling2D(),\n",
        "   layers.Conv2D(64,3,padding='same',activation='sigmoid'),\n",
        "   layers.MaxPooling2D(),\n",
        "   layers.Flatten(),\n",
        "   layers.Dense(128,activation='sigmoid'),\n",
        "   layers.Dense(num_class)\n",
        "])"
      ],
      "execution_count": null,
      "outputs": []
    },
    {
      "cell_type": "code",
      "metadata": {
        "id": "b7pnz_RqJ4Pn"
      },
      "source": [
        "model.compile(optimizer='adam',\n",
        "               loss=tf.keras.losses.SparseCategoricalCrossentropy(from_logits=True),\n",
        "               metrics=['accuracy'])"
      ],
      "execution_count": null,
      "outputs": []
    },
    {
      "cell_type": "code",
      "metadata": {
        "id": "6cdbhx-WL762",
        "outputId": "d3dcee10-c8fc-4016-d37d-dbaa6600377a",
        "colab": {
          "base_uri": "https://localhost:8080/"
        }
      },
      "source": [
        "epochs=20\n",
        "history=model.fit(\n",
        "    train_ds,\n",
        "    validation_data=val_ds,\n",
        "    epochs=20\n",
        ")"
      ],
      "execution_count": null,
      "outputs": [
        {
          "output_type": "stream",
          "text": [
            "Epoch 1/20\n",
            "263/263 [==============================] - 13s 48ms/step - loss: 2.4803 - accuracy: 0.1250 - val_loss: 2.3935 - val_accuracy: 0.0975\n",
            "Epoch 2/20\n",
            "263/263 [==============================] - 8s 29ms/step - loss: 2.3933 - accuracy: 0.1324 - val_loss: 2.3952 - val_accuracy: 0.1425\n",
            "Epoch 3/20\n",
            "263/263 [==============================] - 8s 29ms/step - loss: 2.3944 - accuracy: 0.1323 - val_loss: 2.3893 - val_accuracy: 0.1425\n",
            "Epoch 4/20\n",
            "263/263 [==============================] - 8s 30ms/step - loss: 2.3936 - accuracy: 0.1348 - val_loss: 2.3881 - val_accuracy: 0.1425\n",
            "Epoch 5/20\n",
            "263/263 [==============================] - 8s 30ms/step - loss: 2.3940 - accuracy: 0.1283 - val_loss: 2.3893 - val_accuracy: 0.1425\n",
            "Epoch 6/20\n",
            "263/263 [==============================] - 8s 30ms/step - loss: 2.3931 - accuracy: 0.1317 - val_loss: 2.3927 - val_accuracy: 0.1425\n",
            "Epoch 7/20\n",
            "263/263 [==============================] - 8s 30ms/step - loss: 2.3943 - accuracy: 0.1339 - val_loss: 2.3914 - val_accuracy: 0.1425\n",
            "Epoch 8/20\n",
            "263/263 [==============================] - 8s 30ms/step - loss: 2.3940 - accuracy: 0.1326 - val_loss: 2.3873 - val_accuracy: 0.1425\n",
            "Epoch 9/20\n",
            "263/263 [==============================] - 8s 30ms/step - loss: 2.3941 - accuracy: 0.1271 - val_loss: 2.3875 - val_accuracy: 0.1425\n",
            "Epoch 10/20\n",
            "263/263 [==============================] - 8s 30ms/step - loss: 2.3927 - accuracy: 0.1317 - val_loss: 2.3935 - val_accuracy: 0.1425\n",
            "Epoch 11/20\n",
            "263/263 [==============================] - 8s 30ms/step - loss: 2.3957 - accuracy: 0.1290 - val_loss: 2.3912 - val_accuracy: 0.1425\n",
            "Epoch 12/20\n",
            "263/263 [==============================] - 8s 30ms/step - loss: 2.3924 - accuracy: 0.1325 - val_loss: 2.3955 - val_accuracy: 0.1425\n",
            "Epoch 13/20\n",
            "263/263 [==============================] - 8s 30ms/step - loss: 2.3947 - accuracy: 0.1337 - val_loss: 2.3874 - val_accuracy: 0.1425\n",
            "Epoch 14/20\n",
            "263/263 [==============================] - 8s 30ms/step - loss: 2.3929 - accuracy: 0.1339 - val_loss: 2.3990 - val_accuracy: 0.1425\n",
            "Epoch 15/20\n",
            "263/263 [==============================] - 8s 30ms/step - loss: 2.3923 - accuracy: 0.1331 - val_loss: 2.3891 - val_accuracy: 0.1425\n",
            "Epoch 16/20\n",
            "263/263 [==============================] - 8s 30ms/step - loss: 2.3938 - accuracy: 0.1311 - val_loss: 2.3853 - val_accuracy: 0.1425\n",
            "Epoch 17/20\n",
            "263/263 [==============================] - 8s 30ms/step - loss: 2.3926 - accuracy: 0.1308 - val_loss: 2.3896 - val_accuracy: 0.1425\n",
            "Epoch 18/20\n",
            "263/263 [==============================] - 8s 30ms/step - loss: 2.3937 - accuracy: 0.1312 - val_loss: 2.3916 - val_accuracy: 0.1425\n",
            "Epoch 19/20\n",
            "263/263 [==============================] - 8s 31ms/step - loss: 2.3931 - accuracy: 0.1329 - val_loss: 2.3846 - val_accuracy: 0.1425\n",
            "Epoch 20/20\n",
            "263/263 [==============================] - 8s 30ms/step - loss: 2.3934 - accuracy: 0.1336 - val_loss: 2.3876 - val_accuracy: 0.1425\n"
          ],
          "name": "stdout"
        }
      ]
    },
    {
      "cell_type": "code",
      "metadata": {
        "id": "9NBCZVazMKMG",
        "outputId": "23a85fec-372c-4670-daca-ca00bd7b37cc",
        "colab": {
          "base_uri": "https://localhost:8080/",
          "height": 499
        }
      },
      "source": [
        "acc = history.history['accuracy']\n",
        "val_acc = history.history['val_accuracy']\n",
        "\n",
        "loss = history.history['loss']\n",
        "val_loss = history.history['val_loss']\n",
        "\n",
        "epochs_range = range(epochs)\n",
        "\n",
        "plt.figure(figsize=(8, 8))\n",
        "plt.subplot(1, 2, 1)\n",
        "plt.plot(epochs_range, acc, label='Training Accuracy')\n",
        "plt.plot(epochs_range, val_acc, label='Validation Accuracy')\n",
        "plt.legend(loc='lower right')\n",
        "plt.title('Training and Validation Accuracy')\n",
        "\n",
        "plt.subplot(1, 2, 2)\n",
        "plt.plot(epochs_range, loss, label='Training Loss')\n",
        "plt.plot(epochs_range, val_loss, label='Validation Loss')\n",
        "plt.legend(loc='upper right')\n",
        "plt.title('Training and Validation Loss')\n",
        "plt.show()\n"
      ],
      "execution_count": null,
      "outputs": [
        {
          "output_type": "display_data",
          "data": {
            "image/png": "[encoded data removed]",
            "text/plain": [
              "<Figure size 576x576 with 2 Axes>"
            ]
          },
          "metadata": {
            "tags": [],
            "needs_background": "light"
          }
        }
      ]
    },
    {
      "cell_type": "code",
      "metadata": {
        "id": "OeVn8yOdRZWj"
      },
      "source": [
        "data_augmentation = keras.Sequential(\n",
        "  [\n",
        "    layers.experimental.preprocessing.RandomFlip(\"horizontal\", \n",
        "                                                 input_shape=(height, \n",
        "                                                              width,\n",
        "                                                              3)),\n",
        "    layers.experimental.preprocessing.RandomRotation(0.2),\n",
        "    layers.experimental.preprocessing.RandomZoom(0.2),\n",
        "  ]\n",
        ")\n"
      ],
      "execution_count": null,
      "outputs": []
    },
    {
      "cell_type": "code",
      "metadata": {
        "id": "eMVGNJc5UTip"
      },
      "source": [
        "model = Sequential([\n",
        "  data_augmentation,\n",
        "  layers.experimental.preprocessing.Rescaling(1./255),\n",
        "  layers.Conv2D(16, 3, padding='same', activation='sigmoid'),\n",
        "  layers.MaxPooling2D(),\n",
        "  layers.Conv2D(32, 3, padding='same', activation='sigmoid'),\n",
        "  layers.MaxPooling2D(),\n",
        "  layers.Conv2D(64, 3, padding='same', activation='sigmoid'),\n",
        "  layers.MaxPooling2D(),\n",
        "  layers.Dropout(0.2),\n",
        "  layers.Flatten(),\n",
        "  layers.Dense(128, activation='relu'),\n",
        "  layers.Dense(num_class)\n",
        "])\n"
      ],
      "execution_count": null,
      "outputs": []
    },
    {
      "cell_type": "code",
      "metadata": {
        "id": "iuGjibZgVASc"
      },
      "source": [
        "model.compile(optimizer='adam',\n",
        "              loss=tf.keras.losses.SparseCategoricalCrossentropy(from_logits=True),\n",
        "              metrics=['accuracy'])\n"
      ],
      "execution_count": null,
      "outputs": []
    },
    {
      "cell_type": "code",
      "metadata": {
        "id": "OfvEgvrmVLsU",
        "outputId": "45b26581-646d-4f39-d990-f3bbebd15bca",
        "colab": {
          "base_uri": "https://localhost:8080/"
        }
      },
      "source": [
        "epochs = 100\n",
        "history = model.fit(\n",
        "  train_ds,\n",
        "  validation_data=val_ds,\n",
        "  epochs=epochs\n",
        ")"
      ],
      "execution_count": null,
      "outputs": [
        {
          "output_type": "stream",
          "text": [
            "Epoch 1/100\n",
            "66/66 [==============================] - 2s 26ms/step - loss: 2.6190 - accuracy: 0.3424 - val_loss: 1.1042 - val_accuracy: 0.3211\n",
            "Epoch 2/100\n",
            "66/66 [==============================] - 2s 24ms/step - loss: 1.1036 - accuracy: 0.3290 - val_loss: 1.0992 - val_accuracy: 0.3422\n",
            "Epoch 3/100\n",
            "66/66 [==============================] - 2s 24ms/step - loss: 1.1027 - accuracy: 0.3243 - val_loss: 1.1051 - val_accuracy: 0.3211\n",
            "Epoch 4/100\n",
            "66/66 [==============================] - 2s 24ms/step - loss: 1.1051 - accuracy: 0.3238 - val_loss: 1.0985 - val_accuracy: 0.3422\n",
            "Epoch 5/100\n",
            "66/66 [==============================] - 2s 24ms/step - loss: 1.1052 - accuracy: 0.3243 - val_loss: 1.0978 - val_accuracy: 0.3422\n",
            "Epoch 6/100\n",
            "66/66 [==============================] - 2s 24ms/step - loss: 1.1006 - accuracy: 0.3352 - val_loss: 1.0977 - val_accuracy: 0.3422\n",
            "Epoch 7/100\n",
            "66/66 [==============================] - 2s 24ms/step - loss: 1.1014 - accuracy: 0.3343 - val_loss: 1.0989 - val_accuracy: 0.3378\n",
            "Epoch 8/100\n",
            "66/66 [==============================] - 2s 24ms/step - loss: 1.1005 - accuracy: 0.3267 - val_loss: 1.0987 - val_accuracy: 0.3222\n",
            "Epoch 9/100\n",
            "66/66 [==============================] - 2s 24ms/step - loss: 1.0999 - accuracy: 0.3352 - val_loss: 1.0989 - val_accuracy: 0.3211\n",
            "Epoch 10/100\n",
            "66/66 [==============================] - 2s 24ms/step - loss: 1.1004 - accuracy: 0.3376 - val_loss: 1.1034 - val_accuracy: 0.3211\n",
            "Epoch 11/100\n",
            "66/66 [==============================] - 2s 24ms/step - loss: 1.0999 - accuracy: 0.3400 - val_loss: 1.0992 - val_accuracy: 0.3211\n",
            "Epoch 12/100\n",
            "66/66 [==============================] - 2s 24ms/step - loss: 1.0999 - accuracy: 0.3343 - val_loss: 1.0976 - val_accuracy: 0.4411\n",
            "Epoch 13/100\n",
            "66/66 [==============================] - 2s 24ms/step - loss: 1.0990 - accuracy: 0.3471 - val_loss: 1.1059 - val_accuracy: 0.3211\n",
            "Epoch 14/100\n",
            "66/66 [==============================] - 2s 24ms/step - loss: 1.1004 - accuracy: 0.3357 - val_loss: 1.0985 - val_accuracy: 0.3211\n",
            "Epoch 15/100\n",
            "66/66 [==============================] - 2s 24ms/step - loss: 1.0989 - accuracy: 0.3452 - val_loss: 1.0991 - val_accuracy: 0.3211\n",
            "Epoch 16/100\n",
            "66/66 [==============================] - 2s 24ms/step - loss: 1.0989 - accuracy: 0.3452 - val_loss: 1.0995 - val_accuracy: 0.3211\n",
            "Epoch 17/100\n",
            "66/66 [==============================] - 2s 24ms/step - loss: 1.0984 - accuracy: 0.3510 - val_loss: 1.0970 - val_accuracy: 0.4489\n",
            "Epoch 18/100\n",
            "66/66 [==============================] - 2s 24ms/step - loss: 1.0978 - accuracy: 0.3490 - val_loss: 1.0956 - val_accuracy: 0.3589\n",
            "Epoch 19/100\n",
            "66/66 [==============================] - 2s 24ms/step - loss: 1.0971 - accuracy: 0.3524 - val_loss: 1.0950 - val_accuracy: 0.3633\n",
            "Epoch 20/100\n",
            "66/66 [==============================] - 2s 24ms/step - loss: 1.0959 - accuracy: 0.3471 - val_loss: 1.0967 - val_accuracy: 0.3233\n",
            "Epoch 21/100\n",
            "66/66 [==============================] - 2s 24ms/step - loss: 1.0968 - accuracy: 0.3443 - val_loss: 1.1038 - val_accuracy: 0.3211\n",
            "Epoch 22/100\n",
            "66/66 [==============================] - 2s 24ms/step - loss: 1.0995 - accuracy: 0.3476 - val_loss: 1.0946 - val_accuracy: 0.3944\n",
            "Epoch 23/100\n",
            "66/66 [==============================] - 2s 24ms/step - loss: 1.0920 - accuracy: 0.3719 - val_loss: 1.0985 - val_accuracy: 0.3211\n",
            "Epoch 24/100\n",
            "66/66 [==============================] - 2s 24ms/step - loss: 1.0815 - accuracy: 0.3962 - val_loss: 1.0589 - val_accuracy: 0.4522\n",
            "Epoch 25/100\n",
            "66/66 [==============================] - 2s 24ms/step - loss: 1.0122 - accuracy: 0.4805 - val_loss: 0.8797 - val_accuracy: 0.6111\n",
            "Epoch 26/100\n",
            "66/66 [==============================] - 2s 24ms/step - loss: 0.8518 - accuracy: 0.5800 - val_loss: 0.7259 - val_accuracy: 0.7167\n",
            "Epoch 27/100\n",
            "66/66 [==============================] - 2s 24ms/step - loss: 0.8018 - accuracy: 0.5967 - val_loss: 0.9280 - val_accuracy: 0.5967\n",
            "Epoch 28/100\n",
            "66/66 [==============================] - 2s 24ms/step - loss: 0.7670 - accuracy: 0.6310 - val_loss: 0.6884 - val_accuracy: 0.6478\n",
            "Epoch 29/100\n",
            "66/66 [==============================] - 2s 24ms/step - loss: 0.7225 - accuracy: 0.6586 - val_loss: 0.6528 - val_accuracy: 0.7178\n",
            "Epoch 30/100\n",
            "66/66 [==============================] - 2s 24ms/step - loss: 0.7067 - accuracy: 0.6576 - val_loss: 0.6192 - val_accuracy: 0.7189\n",
            "Epoch 31/100\n",
            "66/66 [==============================] - 2s 24ms/step - loss: 0.6780 - accuracy: 0.6752 - val_loss: 0.6336 - val_accuracy: 0.6678\n",
            "Epoch 32/100\n",
            "66/66 [==============================] - 2s 24ms/step - loss: 0.6755 - accuracy: 0.6895 - val_loss: 0.5645 - val_accuracy: 0.7700\n",
            "Epoch 33/100\n",
            "66/66 [==============================] - 2s 24ms/step - loss: 0.6279 - accuracy: 0.7338 - val_loss: 0.5605 - val_accuracy: 0.7822\n",
            "Epoch 34/100\n",
            "66/66 [==============================] - 2s 24ms/step - loss: 0.6074 - accuracy: 0.7438 - val_loss: 0.5735 - val_accuracy: 0.7244\n",
            "Epoch 35/100\n",
            "66/66 [==============================] - 2s 24ms/step - loss: 0.6316 - accuracy: 0.7329 - val_loss: 0.5087 - val_accuracy: 0.8011\n",
            "Epoch 36/100\n",
            "66/66 [==============================] - 2s 24ms/step - loss: 0.5581 - accuracy: 0.7700 - val_loss: 0.4886 - val_accuracy: 0.8056\n",
            "Epoch 37/100\n",
            "66/66 [==============================] - 2s 25ms/step - loss: 0.5788 - accuracy: 0.7600 - val_loss: 0.4608 - val_accuracy: 0.8244\n",
            "Epoch 38/100\n",
            "66/66 [==============================] - 2s 24ms/step - loss: 0.5455 - accuracy: 0.7748 - val_loss: 0.4484 - val_accuracy: 0.8233\n",
            "Epoch 39/100\n",
            "66/66 [==============================] - 2s 24ms/step - loss: 0.5546 - accuracy: 0.7681 - val_loss: 0.4752 - val_accuracy: 0.8233\n",
            "Epoch 40/100\n",
            "66/66 [==============================] - 2s 24ms/step - loss: 0.5582 - accuracy: 0.7676 - val_loss: 0.4353 - val_accuracy: 0.8389\n",
            "Epoch 41/100\n",
            "66/66 [==============================] - 2s 24ms/step - loss: 0.5107 - accuracy: 0.7910 - val_loss: 0.4827 - val_accuracy: 0.8133\n",
            "Epoch 42/100\n",
            "66/66 [==============================] - 2s 24ms/step - loss: 0.5618 - accuracy: 0.7605 - val_loss: 0.4369 - val_accuracy: 0.8278\n",
            "Epoch 43/100\n",
            "66/66 [==============================] - 2s 24ms/step - loss: 0.5059 - accuracy: 0.7933 - val_loss: 0.3947 - val_accuracy: 0.8622\n",
            "Epoch 44/100\n",
            "66/66 [==============================] - 2s 24ms/step - loss: 0.5032 - accuracy: 0.7933 - val_loss: 0.3937 - val_accuracy: 0.8456\n",
            "Epoch 45/100\n",
            "66/66 [==============================] - 2s 24ms/step - loss: 0.5025 - accuracy: 0.7971 - val_loss: 0.4219 - val_accuracy: 0.8633\n",
            "Epoch 46/100\n",
            "66/66 [==============================] - 2s 24ms/step - loss: 0.4958 - accuracy: 0.7957 - val_loss: 0.3886 - val_accuracy: 0.8567\n",
            "Epoch 47/100\n",
            "66/66 [==============================] - 2s 24ms/step - loss: 0.4751 - accuracy: 0.8067 - val_loss: 0.4368 - val_accuracy: 0.8033\n",
            "Epoch 48/100\n",
            "66/66 [==============================] - 2s 24ms/step - loss: 0.4882 - accuracy: 0.7976 - val_loss: 0.3855 - val_accuracy: 0.8500\n",
            "Epoch 49/100\n",
            "66/66 [==============================] - 2s 24ms/step - loss: 0.4589 - accuracy: 0.8133 - val_loss: 0.4101 - val_accuracy: 0.8511\n",
            "Epoch 50/100\n",
            "66/66 [==============================] - 2s 24ms/step - loss: 0.4615 - accuracy: 0.8033 - val_loss: 0.3666 - val_accuracy: 0.8533\n",
            "Epoch 51/100\n",
            "66/66 [==============================] - 2s 24ms/step - loss: 0.4804 - accuracy: 0.8000 - val_loss: 0.4557 - val_accuracy: 0.8056\n",
            "Epoch 52/100\n",
            "66/66 [==============================] - 2s 24ms/step - loss: 0.4715 - accuracy: 0.7990 - val_loss: 0.3805 - val_accuracy: 0.8589\n",
            "Epoch 53/100\n",
            "66/66 [==============================] - 2s 24ms/step - loss: 0.4419 - accuracy: 0.8219 - val_loss: 0.3726 - val_accuracy: 0.8322\n",
            "Epoch 54/100\n",
            "66/66 [==============================] - 2s 24ms/step - loss: 0.4854 - accuracy: 0.7990 - val_loss: 0.3249 - val_accuracy: 0.8733\n",
            "Epoch 55/100\n",
            "66/66 [==============================] - 2s 24ms/step - loss: 0.4279 - accuracy: 0.8343 - val_loss: 0.4429 - val_accuracy: 0.8111\n",
            "Epoch 56/100\n",
            "66/66 [==============================] - 2s 24ms/step - loss: 0.4180 - accuracy: 0.8200 - val_loss: 0.3138 - val_accuracy: 0.8833\n",
            "Epoch 57/100\n",
            "66/66 [==============================] - 2s 24ms/step - loss: 0.4318 - accuracy: 0.8143 - val_loss: 0.3140 - val_accuracy: 0.8844\n",
            "Epoch 58/100\n",
            "66/66 [==============================] - 2s 24ms/step - loss: 0.4129 - accuracy: 0.8324 - val_loss: 0.3453 - val_accuracy: 0.8600\n",
            "Epoch 59/100\n",
            "66/66 [==============================] - 2s 25ms/step - loss: 0.3930 - accuracy: 0.8457 - val_loss: 0.2633 - val_accuracy: 0.9011\n",
            "Epoch 60/100\n",
            "66/66 [==============================] - 2s 24ms/step - loss: 0.3814 - accuracy: 0.8400 - val_loss: 0.2465 - val_accuracy: 0.9067\n",
            "Epoch 61/100\n",
            "66/66 [==============================] - 2s 24ms/step - loss: 0.3914 - accuracy: 0.8495 - val_loss: 0.2572 - val_accuracy: 0.9133\n",
            "Epoch 62/100\n",
            "66/66 [==============================] - 2s 24ms/step - loss: 0.3681 - accuracy: 0.8629 - val_loss: 0.2460 - val_accuracy: 0.9144\n",
            "Epoch 63/100\n",
            "66/66 [==============================] - 2s 24ms/step - loss: 0.3504 - accuracy: 0.8529 - val_loss: 0.2738 - val_accuracy: 0.8911\n",
            "Epoch 64/100\n",
            "66/66 [==============================] - 2s 24ms/step - loss: 0.3439 - accuracy: 0.8657 - val_loss: 0.2754 - val_accuracy: 0.8911\n",
            "Epoch 65/100\n",
            "66/66 [==============================] - 2s 24ms/step - loss: 0.3223 - accuracy: 0.8795 - val_loss: 0.4078 - val_accuracy: 0.8289\n",
            "Epoch 66/100\n",
            "66/66 [==============================] - 2s 24ms/step - loss: 0.3940 - accuracy: 0.8448 - val_loss: 0.3666 - val_accuracy: 0.8389\n",
            "Epoch 67/100\n",
            "66/66 [==============================] - 2s 24ms/step - loss: 0.3372 - accuracy: 0.8719 - val_loss: 0.2512 - val_accuracy: 0.9067\n",
            "Epoch 68/100\n",
            "66/66 [==============================] - 2s 24ms/step - loss: 0.3323 - accuracy: 0.8743 - val_loss: 0.2574 - val_accuracy: 0.9011\n",
            "Epoch 69/100\n",
            "66/66 [==============================] - 2s 24ms/step - loss: 0.3570 - accuracy: 0.8738 - val_loss: 0.2362 - val_accuracy: 0.9178\n",
            "Epoch 70/100\n",
            "66/66 [==============================] - 2s 24ms/step - loss: 0.3221 - accuracy: 0.8790 - val_loss: 0.2479 - val_accuracy: 0.9156\n",
            "Epoch 71/100\n",
            "66/66 [==============================] - 2s 24ms/step - loss: 0.3727 - accuracy: 0.8562 - val_loss: 0.3126 - val_accuracy: 0.8778\n",
            "Epoch 72/100\n",
            "66/66 [==============================] - 2s 24ms/step - loss: 0.3156 - accuracy: 0.8881 - val_loss: 0.2215 - val_accuracy: 0.9156\n",
            "Epoch 73/100\n",
            "66/66 [==============================] - 2s 25ms/step - loss: 0.3187 - accuracy: 0.8819 - val_loss: 0.2657 - val_accuracy: 0.8900\n",
            "Epoch 74/100\n",
            "66/66 [==============================] - 2s 25ms/step - loss: 0.3064 - accuracy: 0.8819 - val_loss: 0.3435 - val_accuracy: 0.8700\n",
            "Epoch 75/100\n",
            "66/66 [==============================] - 2s 24ms/step - loss: 0.3003 - accuracy: 0.8914 - val_loss: 0.2007 - val_accuracy: 0.9267\n",
            "Epoch 76/100\n",
            "66/66 [==============================] - 2s 24ms/step - loss: 0.2892 - accuracy: 0.8895 - val_loss: 0.2572 - val_accuracy: 0.9000\n",
            "Epoch 77/100\n",
            "66/66 [==============================] - 2s 24ms/step - loss: 0.2850 - accuracy: 0.8919 - val_loss: 0.2575 - val_accuracy: 0.9033\n",
            "Epoch 78/100\n",
            "66/66 [==============================] - 2s 24ms/step - loss: 0.2638 - accuracy: 0.9029 - val_loss: 0.1795 - val_accuracy: 0.9356\n",
            "Epoch 79/100\n",
            "66/66 [==============================] - 2s 24ms/step - loss: 0.3109 - accuracy: 0.8824 - val_loss: 0.2167 - val_accuracy: 0.9267\n",
            "Epoch 80/100\n",
            "66/66 [==============================] - 2s 24ms/step - loss: 0.2745 - accuracy: 0.8981 - val_loss: 0.1758 - val_accuracy: 0.9367\n",
            "Epoch 81/100\n",
            "66/66 [==============================] - 2s 25ms/step - loss: 0.2545 - accuracy: 0.9062 - val_loss: 0.2449 - val_accuracy: 0.9078\n",
            "Epoch 82/100\n",
            "66/66 [==============================] - 2s 24ms/step - loss: 0.2458 - accuracy: 0.9086 - val_loss: 0.2375 - val_accuracy: 0.8967\n",
            "Epoch 83/100\n",
            "66/66 [==============================] - 2s 24ms/step - loss: 0.2669 - accuracy: 0.8990 - val_loss: 0.2578 - val_accuracy: 0.8900\n",
            "Epoch 84/100\n",
            "66/66 [==============================] - 2s 24ms/step - loss: 0.2288 - accuracy: 0.9129 - val_loss: 0.1548 - val_accuracy: 0.9511\n",
            "Epoch 85/100\n",
            "66/66 [==============================] - 2s 24ms/step - loss: 0.2413 - accuracy: 0.9071 - val_loss: 0.1688 - val_accuracy: 0.9378\n",
            "Epoch 86/100\n",
            "66/66 [==============================] - 2s 24ms/step - loss: 0.2549 - accuracy: 0.9171 - val_loss: 0.3369 - val_accuracy: 0.8400\n",
            "Epoch 87/100\n",
            "66/66 [==============================] - 2s 25ms/step - loss: 0.2239 - accuracy: 0.9171 - val_loss: 0.2259 - val_accuracy: 0.9211\n",
            "Epoch 88/100\n",
            "66/66 [==============================] - 2s 25ms/step - loss: 0.2095 - accuracy: 0.9243 - val_loss: 0.1371 - val_accuracy: 0.9567\n",
            "Epoch 89/100\n",
            "66/66 [==============================] - 2s 24ms/step - loss: 0.2187 - accuracy: 0.9190 - val_loss: 0.1855 - val_accuracy: 0.9244\n",
            "Epoch 90/100\n",
            "66/66 [==============================] - 2s 24ms/step - loss: 0.2168 - accuracy: 0.9138 - val_loss: 0.1427 - val_accuracy: 0.9411\n",
            "Epoch 91/100\n",
            "66/66 [==============================] - 2s 24ms/step - loss: 0.2073 - accuracy: 0.9233 - val_loss: 0.1587 - val_accuracy: 0.9333\n",
            "Epoch 92/100\n",
            "66/66 [==============================] - 2s 24ms/step - loss: 0.2131 - accuracy: 0.9238 - val_loss: 0.2250 - val_accuracy: 0.9089\n",
            "Epoch 93/100\n",
            "66/66 [==============================] - 2s 25ms/step - loss: 0.1997 - accuracy: 0.9281 - val_loss: 0.1281 - val_accuracy: 0.9556\n",
            "Epoch 94/100\n",
            "66/66 [==============================] - 2s 25ms/step - loss: 0.1785 - accuracy: 0.9357 - val_loss: 0.1400 - val_accuracy: 0.9489\n",
            "Epoch 95/100\n",
            "66/66 [==============================] - 2s 25ms/step - loss: 0.1993 - accuracy: 0.9229 - val_loss: 0.1374 - val_accuracy: 0.9511\n",
            "Epoch 96/100\n",
            "66/66 [==============================] - 2s 24ms/step - loss: 0.1887 - accuracy: 0.9333 - val_loss: 0.1232 - val_accuracy: 0.9533\n",
            "Epoch 97/100\n",
            "66/66 [==============================] - 2s 24ms/step - loss: 0.1889 - accuracy: 0.9281 - val_loss: 0.1289 - val_accuracy: 0.9467\n",
            "Epoch 98/100\n",
            "66/66 [==============================] - 2s 24ms/step - loss: 0.1789 - accuracy: 0.9343 - val_loss: 0.1316 - val_accuracy: 0.9467\n",
            "Epoch 99/100\n",
            "66/66 [==============================] - 2s 24ms/step - loss: 0.1689 - accuracy: 0.9371 - val_loss: 0.1147 - val_accuracy: 0.9533\n",
            "Epoch 100/100\n",
            "66/66 [==============================] - 2s 24ms/step - loss: 0.1715 - accuracy: 0.9348 - val_loss: 0.1668 - val_accuracy: 0.9333\n"
          ],
          "name": "stdout"
        }
      ]
    },
    {
      "cell_type": "code",
      "metadata": {
        "id": "1Z1QSfLCVXco",
        "outputId": "a996d254-a79f-402d-9c61-726fedf7881d",
        "colab": {
          "base_uri": "https://localhost:8080/",
          "height": 499
        }
      },
      "source": [
        "acc = history.history['accuracy']\n",
        "val_acc = history.history['val_accuracy']\n",
        "\n",
        "loss = history.history['loss']\n",
        "val_loss = history.history['val_loss']\n",
        "\n",
        "epochs_range = range(epochs)\n",
        "\n",
        "plt.figure(figsize=(8, 8))\n",
        "plt.subplot(1, 2, 1)\n",
        "plt.plot(epochs_range, acc, label='Training Accuracy')\n",
        "plt.plot(epochs_range, val_acc, label='Validation Accuracy')\n",
        "plt.legend(loc='lower right')\n",
        "plt.title('Training and Validation Accuracy')\n",
        "\n",
        "plt.subplot(1, 2, 2)\n",
        "plt.plot(epochs_range, loss, label='Training Loss')\n",
        "plt.plot(epochs_range, val_loss, label='Validation Loss')\n",
        "plt.legend(loc='upper right')\n",
        "plt.title('Training and Validation Loss')\n",
        "plt.show()\n"
      ],
      "execution_count": null,
      "outputs": [
        {
          "output_type": "display_data",
          "data": {
            "image/png": "[encoded data removed]",
            "text/plain": [
              "<Figure size 576x576 with 2 Axes>"
            ]
          },
          "metadata": {
            "tags": [],
            "needs_background": "light"
          }
        }
      ]
    },
    {
      "cell_type": "code",
      "metadata": {
        "id": "VOKNeUkgWP_d",
        "outputId": "ef4c0522-2e50-4f3f-a1f1-fd07737dec08",
        "colab": {
          "base_uri": "https://localhost:8080/"
        }
      },
      "source": [
        "import numpy as np\n",
        "\n",
        "potato_url = \"https://ag.umass.edu/sites/ag.umass.edu/files/fact-sheets/images/lateblightTom_lesion3.jpg\"\n",
        "potato_path = tf.keras.utils.get_file('plok', origin=potato_url)\n",
        "\n",
        "img = keras.preprocessing.image.load_img(\n",
        "    potato_path, target_size=(height, width)\n",
        ")\n",
        "img_array = keras.preprocessing.image.img_to_array(img)\n",
        "img_array = tf.expand_dims(img_array, 0) # Create a batch\n",
        "\n",
        "predictions = model.predict(img_array)\n",
        "score = tf.nn.softmax(predictions[0])\n",
        "\n",
        "print(\n",
        "    \"This image most likely belongs to {} with a {:.2f} percent confidence.\"\n",
        "    .format(class_names[np.argmax(score)], 100 * np.max(score))\n",
        ")\n"
      ],
      "execution_count": null,
      "outputs": [
        {
          "output_type": "stream",
          "text": [
            "Downloading data from https://ag.umass.edu/sites/ag.umass.edu/files/fact-sheets/images/lateblightTom_lesion3.jpg\n",
            "303104/297103 [==============================] - 0s 1us/step\n",
            "This image most likely belongs to Potato___healthy with a 80.94 percent confidence.\n"
          ],
          "name": "stdout"
        }
      ]
    },
    {
      "cell_type": "code",
      "metadata": {
        "id": "ui77JBTaW1U4"
      },
      "source": [
        ""
      ],
      "execution_count": null,
      "outputs": []
    },
    {
      "cell_type": "code",
      "metadata": {
        "id": "9Up-9SS_71yp"
      },
      "source": [
        ""
      ],
      "execution_count": null,
      "outputs": []
    }
  ]
}