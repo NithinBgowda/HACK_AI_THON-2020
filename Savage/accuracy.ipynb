{
 "cells": [
  {
   "cell_type": "code",
   "execution_count": 1,
   "metadata": {},
   "outputs": [],
   "source": [
    "import pandas as pd\n",
    "import numpy as np\n",
    "from sklearn.model_selection import train_test_split\n",
    "from sklearn import metrics\n",
    "import seaborn as sns"
   ]
  },
  {
   "cell_type": "code",
   "execution_count": 2,
   "metadata": {},
   "outputs": [],
   "source": [
    "df = pd.read_csv('Forest_fire.csv')"
   ]
  },
  {
   "cell_type": "code",
   "execution_count": 3,
   "metadata": {},
   "outputs": [
    {
     "data": {
      "text/html": [
       "<div>\n",
       "<style scoped>\n",
       "    .dataframe tbody tr th:only-of-type {\n",
       "        vertical-align: middle;\n",
       "    }\n",
       "\n",
       "    .dataframe tbody tr th {\n",
       "        vertical-align: top;\n",
       "    }\n",
       "\n",
       "    .dataframe thead th {\n",
       "        text-align: right;\n",
       "    }\n",
       "</style>\n",
       "<table border=\"1\" class=\"dataframe\">\n",
       "  <thead>\n",
       "    <tr style=\"text-align: right;\">\n",
       "      <th></th>\n",
       "      <th>Date</th>\n",
       "      <th>Place name</th>\n",
       "      <th>Temperature (in degree C)</th>\n",
       "      <th>Oxygen level</th>\n",
       "      <th>Humidity</th>\n",
       "      <th>Fire Occurance</th>\n",
       "    </tr>\n",
       "  </thead>\n",
       "  <tbody>\n",
       "    <tr>\n",
       "      <td>0</td>\n",
       "      <td>10-04-2011</td>\n",
       "      <td>Chennai</td>\n",
       "      <td>35</td>\n",
       "      <td>5</td>\n",
       "      <td>35</td>\n",
       "      <td>NO</td>\n",
       "    </tr>\n",
       "    <tr>\n",
       "      <td>1</td>\n",
       "      <td>28-03-1963</td>\n",
       "      <td>Ramban</td>\n",
       "      <td>45</td>\n",
       "      <td>67</td>\n",
       "      <td>33</td>\n",
       "      <td>YES</td>\n",
       "    </tr>\n",
       "    <tr>\n",
       "      <td>2</td>\n",
       "      <td>22-09-1978</td>\n",
       "      <td>Shopian</td>\n",
       "      <td>32</td>\n",
       "      <td>60</td>\n",
       "      <td>19</td>\n",
       "      <td>NO</td>\n",
       "    </tr>\n",
       "    <tr>\n",
       "      <td>3</td>\n",
       "      <td>26-07-2001</td>\n",
       "      <td>Ecuador</td>\n",
       "      <td>32</td>\n",
       "      <td>60</td>\n",
       "      <td>19</td>\n",
       "      <td>YES</td>\n",
       "    </tr>\n",
       "    <tr>\n",
       "      <td>4</td>\n",
       "      <td>16-04-1980</td>\n",
       "      <td>Udhampur</td>\n",
       "      <td>55</td>\n",
       "      <td>40</td>\n",
       "      <td>80</td>\n",
       "      <td>NO</td>\n",
       "    </tr>\n",
       "  </tbody>\n",
       "</table>\n",
       "</div>"
      ],
      "text/plain": [
       "         Date Place name  Temperature (in degree C)  Oxygen level  Humidity  \\\n",
       "0  10-04-2011    Chennai                         35             5        35   \n",
       "1  28-03-1963     Ramban                         45            67        33   \n",
       "2  22-09-1978    Shopian                         32            60        19   \n",
       "3  26-07-2001    Ecuador                         32            60        19   \n",
       "4  16-04-1980   Udhampur                         55            40        80   \n",
       "\n",
       "  Fire Occurance  \n",
       "0             NO  \n",
       "1            YES  \n",
       "2             NO  \n",
       "3            YES  \n",
       "4             NO  "
      ]
     },
     "execution_count": 3,
     "metadata": {},
     "output_type": "execute_result"
    }
   ],
   "source": [
    "df.head()"
   ]
  },
  {
   "cell_type": "code",
   "execution_count": 4,
   "metadata": {},
   "outputs": [],
   "source": [
    "features = df.drop(columns = ['Date','Place name','Fire Occurance'])"
   ]
  },
  {
   "cell_type": "code",
   "execution_count": 5,
   "metadata": {},
   "outputs": [],
   "source": [
    "target = df['Fire Occurance']"
   ]
  },
  {
   "cell_type": "code",
   "execution_count": 6,
   "metadata": {},
   "outputs": [],
   "source": [
    "from sklearn.preprocessing import LabelEncoder\n",
    "le = LabelEncoder()        # YES = 1, NO = 0\n",
    "target = le.fit_transform(target)"
   ]
  },
  {
   "cell_type": "code",
   "execution_count": 7,
   "metadata": {},
   "outputs": [
    {
     "data": {
      "text/plain": [
       "DecisionTreeRegressor(criterion='mse', max_depth=None, max_features=None,\n",
       "                      max_leaf_nodes=None, min_impurity_decrease=0.0,\n",
       "                      min_impurity_split=None, min_samples_leaf=1,\n",
       "                      min_samples_split=2, min_weight_fraction_leaf=0.0,\n",
       "                      presort=False, random_state=None, splitter='best')"
      ]
     },
     "execution_count": 7,
     "metadata": {},
     "output_type": "execute_result"
    }
   ],
   "source": [
    "from sklearn.tree import DecisionTreeRegressor\n",
    "r = DecisionTreeRegressor()\n",
    "r.fit(features,target)"
   ]
  },
  {
   "cell_type": "code",
   "execution_count": 8,
   "metadata": {},
   "outputs": [
    {
     "data": {
      "text/plain": [
       "array([1., 0.])"
      ]
     },
     "execution_count": 8,
     "metadata": {},
     "output_type": "execute_result"
    }
   ],
   "source": [
    "r.predict([[45,67,34], [20,10,46]])"
   ]
  },
  {
   "cell_type": "code",
   "execution_count": 9,
   "metadata": {},
   "outputs": [],
   "source": [
    "features_train, features_test, target_train, target_test = train_test_split(features, target, test_size = 0.3, random_state=100)"
   ]
  },
  {
   "cell_type": "code",
   "execution_count": 10,
   "metadata": {},
   "outputs": [
    {
     "data": {
      "text/plain": [
       "array([0.        , 0.        , 1.        , 0.        , 0.75      ,\n",
       "       0.05714286, 1.        , 0.9375    , 1.        , 0.        ,\n",
       "       0.        , 1.        , 1.        , 0.96      , 1.        ,\n",
       "       0.        , 1.        , 0.        , 0.05714286, 1.        ,\n",
       "       0.8125    , 0.        , 0.05714286, 1.        , 1.        ,\n",
       "       0.        , 0.05555556, 0.9375    , 0.        , 0.        ,\n",
       "       0.        , 0.        , 0.        , 0.05555556, 0.8125    ,\n",
       "       0.        , 0.        , 0.05555556, 1.        , 0.        ,\n",
       "       0.        , 1.        , 0.9375    , 1.        , 0.        ,\n",
       "       0.73333333, 1.        , 0.        , 0.08333333, 0.        ,\n",
       "       0.        , 0.        , 0.96      , 0.08333333, 0.        ,\n",
       "       1.        , 0.        , 0.        , 1.        , 0.16666667,\n",
       "       0.        , 0.        , 0.73333333, 0.        , 0.16666667,\n",
       "       0.73333333, 0.08333333, 1.        , 1.        , 1.        ,\n",
       "       0.75      , 0.        , 0.05714286, 0.        , 0.        ,\n",
       "       0.16666667, 0.        , 1.        , 0.75      , 0.9375    ,\n",
       "       0.05555556, 0.75      , 1.        , 0.75      , 0.73333333,\n",
       "       0.        , 0.        , 0.05714286, 0.8125    , 0.        ,\n",
       "       0.05714286, 0.        , 1.        , 1.        , 0.        ,\n",
       "       0.        , 1.        , 0.        , 0.        , 1.        ,\n",
       "       0.05714286, 1.        , 0.        , 0.        , 0.05714286,\n",
       "       1.        , 1.        , 0.        , 0.        , 0.75      ,\n",
       "       1.        , 1.        , 1.        , 0.16666667, 0.        ,\n",
       "       1.        , 0.        , 1.        , 1.        , 0.        ,\n",
       "       0.        , 1.        , 0.        , 0.        , 0.05714286,\n",
       "       1.        , 0.96      , 0.9375    , 0.        , 0.        ,\n",
       "       0.9375    , 0.73333333, 0.        , 1.        , 1.        ,\n",
       "       0.        , 0.05714286, 0.05555556, 0.        , 0.75      ,\n",
       "       0.96      , 0.        , 1.        , 0.        , 1.        ,\n",
       "       1.        , 0.05714286, 0.        , 0.05555556, 0.        ,\n",
       "       0.08333333, 1.        , 0.        , 0.        , 0.        ,\n",
       "       0.9375    , 0.        , 0.16666667, 0.75      , 0.        ,\n",
       "       1.        , 0.        , 0.8125    , 0.        , 0.        ,\n",
       "       0.        , 1.        , 1.        , 0.        , 0.        ,\n",
       "       0.        , 0.9375    , 1.        , 0.16666667, 1.        ,\n",
       "       1.        , 1.        , 0.        , 0.05555556, 1.        ,\n",
       "       0.        , 1.        , 0.        , 0.        , 0.96      ,\n",
       "       0.        , 1.        , 0.9375    , 0.        , 0.        ,\n",
       "       1.        , 1.        , 0.        , 0.75      , 0.        ,\n",
       "       0.        , 0.73333333, 0.9375    , 0.9375    , 1.        ,\n",
       "       1.        , 1.        , 1.        , 0.9375    , 1.        ,\n",
       "       1.        , 0.9375    , 1.        , 1.        , 0.96      ,\n",
       "       0.16666667, 0.9375    , 0.16666667, 0.        , 1.        ,\n",
       "       1.        , 1.        , 0.        ])"
      ]
     },
     "execution_count": 10,
     "metadata": {},
     "output_type": "execute_result"
    }
   ],
   "source": [
    "predict = r.predict(features_test)\n",
    "predict"
   ]
  },
  {
   "cell_type": "code",
   "execution_count": 11,
   "metadata": {},
   "outputs": [
    {
     "data": {
      "text/plain": [
       "0.034623995613365974"
      ]
     },
     "execution_count": 11,
     "metadata": {},
     "output_type": "execute_result"
    }
   ],
   "source": [
    "metrics.mean_squared_error(target_test,predict)"
   ]
  },
  {
   "cell_type": "code",
   "execution_count": 12,
   "metadata": {},
   "outputs": [
    {
     "data": {
      "text/plain": [
       "0.18607524180654977"
      ]
     },
     "execution_count": 12,
     "metadata": {},
     "output_type": "execute_result"
    }
   ],
   "source": [
    "np.sqrt(metrics.mean_squared_error(target_test,predict))"
   ]
  },
  {
   "cell_type": "code",
   "execution_count": null,
   "metadata": {},
   "outputs": [],
   "source": []
  }
 ],
 "metadata": {
  "kernelspec": {
   "display_name": "Python 3",
   "language": "python",
   "name": "python3"
  },
  "language_info": {
   "codemirror_mode": {
    "name": "ipython",
    "version": 3
   },
   "file_extension": ".py",
   "mimetype": "text/x-python",
   "name": "python",
   "nbconvert_exporter": "python",
   "pygments_lexer": "ipython3",
   "version": "3.7.4"
  }
 },
 "nbformat": 4,
 "nbformat_minor": 2
}
