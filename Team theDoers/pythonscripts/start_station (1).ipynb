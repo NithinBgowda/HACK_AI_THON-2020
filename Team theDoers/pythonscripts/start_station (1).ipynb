{
  "nbformat": 4,
  "nbformat_minor": 0,
  "metadata": {
    "colab": {
      "name": "start_station.ipynb",
      "provenance": [],
      "collapsed_sections": []
    },
    "kernelspec": {
      "name": "python3",
      "display_name": "Python 3"
    }
  },
  "cells": [
    {
      "cell_type": "code",
      "metadata": {
        "id": "kANAvmJB__hO",
        "outputId": "26750484-f1b9-4312-9d26-a7e84ce44f6d",
        "colab": {
          "base_uri": "https://localhost:8080/"
        }
      },
      "source": [
        "from google.colab import drive\n",
        "drive.mount('/content/drive')"
      ],
      "execution_count": 1,
      "outputs": [
        {
          "output_type": "stream",
          "text": [
            "Drive already mounted at /content/drive; to attempt to forcibly remount, call drive.mount(\"/content/drive\", force_remount=True).\n"
          ],
          "name": "stdout"
        }
      ]
    },
    {
      "cell_type": "code",
      "metadata": {
        "id": "fJ2e8eHLm-tj",
        "outputId": "f2871f33-95b3-48c5-f36e-e191b2d65b53",
        "colab": {
          "base_uri": "https://localhost:8080/"
        }
      },
      "source": [
        "!pip install pymysql"
      ],
      "execution_count": 2,
      "outputs": [
        {
          "output_type": "stream",
          "text": [
            "Requirement already satisfied: pymysql in /usr/local/lib/python3.6/dist-packages (0.10.1)\n"
          ],
          "name": "stdout"
        }
      ]
    },
    {
      "cell_type": "code",
      "metadata": {
        "id": "XRcaUN72ORSH"
      },
      "source": [
        "import pymysql\n",
        "from datetime import datetime\n",
        "\n",
        "mydb = pymysql.connect(\n",
        "    host=\"remotemysql.com\",\n",
        "    user=\"jsdmPgLJ0k\",\n",
        "    password=\"t0XUXdJsm9\",\n",
        "    database=\"jsdmPgLJ0k\",\n",
        ")\n",
        "mycursor = mydb.cursor()\n",
        "\n"
      ],
      "execution_count": 3,
      "outputs": []
    },
    {
      "cell_type": "code",
      "metadata": {
        "id": "bGA8eX-UAQy-",
        "outputId": "4e2bce36-2502-441c-a67f-fe3ae705f977",
        "colab": {
          "base_uri": "https://localhost:8080/"
        }
      },
      "source": [
        "!pip install mtcnn"
      ],
      "execution_count": 4,
      "outputs": [
        {
          "output_type": "stream",
          "text": [
            "Requirement already satisfied: mtcnn in /usr/local/lib/python3.6/dist-packages (0.1.0)\n",
            "Requirement already satisfied: keras>=2.0.0 in /usr/local/lib/python3.6/dist-packages (from mtcnn) (2.4.3)\n",
            "Requirement already satisfied: opencv-python>=4.1.0 in /usr/local/lib/python3.6/dist-packages (from mtcnn) (4.1.2.30)\n",
            "Requirement already satisfied: h5py in /usr/local/lib/python3.6/dist-packages (from keras>=2.0.0->mtcnn) (2.10.0)\n",
            "Requirement already satisfied: scipy>=0.14 in /usr/local/lib/python3.6/dist-packages (from keras>=2.0.0->mtcnn) (1.4.1)\n",
            "Requirement already satisfied: numpy>=1.9.1 in /usr/local/lib/python3.6/dist-packages (from keras>=2.0.0->mtcnn) (1.18.5)\n",
            "Requirement already satisfied: pyyaml in /usr/local/lib/python3.6/dist-packages (from keras>=2.0.0->mtcnn) (3.13)\n",
            "Requirement already satisfied: six in /usr/local/lib/python3.6/dist-packages (from h5py->keras>=2.0.0->mtcnn) (1.15.0)\n"
          ],
          "name": "stdout"
        }
      ]
    },
    {
      "cell_type": "code",
      "metadata": {
        "id": "cvDIDB83ATmW",
        "outputId": "0a481381-99d5-4d72-9ac9-dcf4f9937600",
        "colab": {
          "base_uri": "https://localhost:8080/"
        }
      },
      "source": [
        "!pip install expiringdict"
      ],
      "execution_count": 5,
      "outputs": [
        {
          "output_type": "stream",
          "text": [
            "Requirement already satisfied: expiringdict in /usr/local/lib/python3.6/dist-packages (1.2.1)\n"
          ],
          "name": "stdout"
        }
      ]
    },
    {
      "cell_type": "code",
      "metadata": {
        "id": "VS1NReM6AaNS",
        "outputId": "7bad45a2-b96d-4bf6-fe24-e77840045567",
        "colab": {
          "base_uri": "https://localhost:8080/"
        }
      },
      "source": [
        "from random import choice\n",
        "from numpy import load\n",
        "from numpy import expand_dims\n",
        "from sklearn.preprocessing import LabelEncoder\n",
        "from sklearn.preprocessing import Normalizer\n",
        "from sklearn.svm import SVC\n",
        "from matplotlib import pyplot\n",
        "# load faces\n",
        "data = load('/content/drive/My Drive/Metro project/data.npz')\n",
        "testX_faces = data['arr_2']\n",
        "# load face embeddings\n",
        "data = load('/content/drive/My Drive/Metro project/Data-faces-embeddings.npz')\n",
        "trainX, trainy, testX, testy = data['arr_0'], data['arr_1'], data['arr_2'], data['arr_3']\n",
        "# normalize input vectors\n",
        "in_encoder = Normalizer(norm='l2')\n",
        "trainX = in_encoder.transform(trainX)\n",
        "testX = in_encoder.transform(testX)\n",
        "# label encode targets\n",
        "out_encoder = LabelEncoder()\n",
        "out_encoder.fit(trainy)\n",
        "trainy = out_encoder.transform(trainy)\n",
        "testy = out_encoder.transform(testy)\n",
        "# fit model\n",
        "model1 = SVC(kernel='linear', probability=True)\n",
        "model1.fit(trainX, trainy)"
      ],
      "execution_count": 6,
      "outputs": [
        {
          "output_type": "execute_result",
          "data": {
            "text/plain": [
              "SVC(C=1.0, break_ties=False, cache_size=200, class_weight=None, coef0=0.0,\n",
              "    decision_function_shape='ovr', degree=3, gamma='scale', kernel='linear',\n",
              "    max_iter=-1, probability=True, random_state=None, shrinking=True, tol=0.001,\n",
              "    verbose=False)"
            ]
          },
          "metadata": {
            "tags": []
          },
          "execution_count": 6
        }
      ]
    },
    {
      "cell_type": "code",
      "metadata": {
        "id": "_qDOogieAkcA",
        "outputId": "b0b9eeee-fd41-4c84-a663-47c64b870833",
        "colab": {
          "base_uri": "https://localhost:8080/"
        }
      },
      "source": [
        "from matplotlib import pyplot\n",
        "from PIL import Image\n",
        "from numpy import asarray\n",
        "from mtcnn.mtcnn import MTCNN\n",
        "import cv2\n",
        "from numpy import load\n",
        "from numpy import expand_dims\n",
        "from numpy import savez_compressed\n",
        "from keras.models import load_model\n",
        "from expiringdict import ExpiringDict\n",
        "curr_pass= ExpiringDict(max_len=100, max_age_seconds=600)\n",
        "detector=MTCNN()\n",
        "\n",
        "def get_embedding(model, face_pixels):\n",
        "    face_pixels = face_pixels.astype('float32')\n",
        "    mean, std = face_pixels.mean(), face_pixels.std()\n",
        "    face_pixels = (face_pixels - mean) / std\n",
        "    samples = expand_dims(face_pixels, axis=0)\n",
        "    yhat = model.predict(samples)\n",
        "    return yhat[0]\n",
        "\n",
        "\n",
        "cap = cv2.VideoCapture(\"/content/drive/MyDrive/Metro project/test2.mp4\")\n",
        "while True: \n",
        "    #Capture frame-by-frame\n",
        "    ret, frame = cap.read()\n",
        "    #Use MTCNN to detect faces\n",
        "    result = detector.detect_faces(frame)\n",
        "    \n",
        "    if result != []:\n",
        "        for person in result:\n",
        "            bounding_box = person['box']\n",
        "            keypoints = person['keypoints']\n",
        "            for i in range(0,3):\n",
        "                if(bounding_box[i]<0):\n",
        "                    bounding_box[i]=0\n",
        "            # print(\"Printing BB\")\n",
        "            # print(bounding_box)\n",
        "            cv2.rectangle(frame,\n",
        "                          (bounding_box[0], bounding_box[1]),\n",
        "                          (bounding_box[0]+bounding_box[2], bounding_box[1] + bounding_box[3]),\n",
        "                          (0,155,255),\n",
        "                          2)\n",
        "            x,y,w,h = bounding_box\n",
        "            cropped_array = frame[y:y+h, x:x+w]\n",
        "            numarr=asarray(cropped_array)\n",
        "            model = load_model('/content/drive/My Drive/Metro project/keras-facenet/model/facenet_keras.h5')\n",
        "            embed=get_embedding(model,numarr)\n",
        "            samples = expand_dims(embed, axis=0)\n",
        "            yhat_class = model1.predict(samples)\n",
        "            yhat_prob = model1.predict_proba(samples)\n",
        "\n",
        "\n",
        "# get name\n",
        "            class_index = yhat_class[0]\n",
        "            class_probability = yhat_prob[0,class_index] * 100\n",
        "            predict_names = out_encoder.inverse_transform(yhat_class)\n",
        "            if predict_names[0] not in curr_pass.keys() :\n",
        "              curr_pass[predict_names[0]]=1\n",
        "              if predict_names[0]=='Nitya':\n",
        "                PID=31\n",
        "              elif predict_names[0]=='Bhumi':\n",
        "                PID=32\n",
        "              elif predict_names[0]=='Khush':\n",
        "                PID=33\n",
        "              elif predict_names[0]=='Likith':\n",
        "                PID=34\n",
        "              StartID = 1  # StartStationID\n",
        "              mycursor.execute(\"\"\"INSERT INTO TravelRecord (PID,StartID) VALUES ('%s', '%s')\"\"\" % (\n",
        "                  PID, StartID))\n",
        "              mydb.commit()\n",
        "              print(mycursor.rowcount, \"record inserted.\")\n",
        "            #   print('Predicted: %s (%.3f)' % (predict_names[0], class_probability))\n",
        "            # print(curr_pass)\n",
        "            # print(model1.predict(samples))\n",
        "            # cv2.imshow(\"cropped\", cropped_array)\n",
        "            # print(numarr)\n",
        "    if cv2.waitKey(1) &0xFF == ord('q'):\n",
        "        break\n",
        "#When everything's done, release capture\n",
        "\n",
        "cap.release()\n",
        "cv2.destroyAllWindows()"
      ],
      "execution_count": null,
      "outputs": [
        {
          "output_type": "stream",
          "text": [
            "WARNING:tensorflow:No training configuration found in the save file, so the model was *not* compiled. Compile it manually.\n",
            "WARNING:tensorflow:Model was constructed with shape (None, 160, 160, 3) for input Tensor(\"input_1_1:0\", shape=(None, 160, 160, 3), dtype=float32), but it was called on an input with incompatible shape (None, 255, 206, 3).\n",
            "1 record inserted.\n",
            "WARNING:tensorflow:No training configuration found in the save file, so the model was *not* compiled. Compile it manually.\n",
            "WARNING:tensorflow:Model was constructed with shape (None, 160, 160, 3) for input Tensor(\"input_1_2:0\", shape=(None, 160, 160, 3), dtype=float32), but it was called on an input with incompatible shape (None, 284, 225, 3).\n",
            "WARNING:tensorflow:No training configuration found in the save file, so the model was *not* compiled. Compile it manually.\n",
            "WARNING:tensorflow:Model was constructed with shape (None, 160, 160, 3) for input Tensor(\"input_1_3:0\", shape=(None, 160, 160, 3), dtype=float32), but it was called on an input with incompatible shape (None, 286, 227, 3).\n",
            "WARNING:tensorflow:No training configuration found in the save file, so the model was *not* compiled. Compile it manually.\n",
            "WARNING:tensorflow:Model was constructed with shape (None, 160, 160, 3) for input Tensor(\"input_1_4:0\", shape=(None, 160, 160, 3), dtype=float32), but it was called on an input with incompatible shape (None, 285, 227, 3).\n",
            "WARNING:tensorflow:No training configuration found in the save file, so the model was *not* compiled. Compile it manually.\n",
            "WARNING:tensorflow:Model was constructed with shape (None, 160, 160, 3) for input Tensor(\"input_1_5:0\", shape=(None, 160, 160, 3), dtype=float32), but it was called on an input with incompatible shape (None, 287, 228, 3).\n",
            "WARNING:tensorflow:No training configuration found in the save file, so the model was *not* compiled. Compile it manually.\n",
            "WARNING:tensorflow:Model was constructed with shape (None, 160, 160, 3) for input Tensor(\"input_1_6:0\", shape=(None, 160, 160, 3), dtype=float32), but it was called on an input with incompatible shape (None, 287, 226, 3).\n",
            "WARNING:tensorflow:No training configuration found in the save file, so the model was *not* compiled. Compile it manually.\n",
            "WARNING:tensorflow:Model was constructed with shape (None, 160, 160, 3) for input Tensor(\"input_1_7:0\", shape=(None, 160, 160, 3), dtype=float32), but it was called on an input with incompatible shape (None, 288, 229, 3).\n",
            "WARNING:tensorflow:No training configuration found in the save file, so the model was *not* compiled. Compile it manually.\n",
            "WARNING:tensorflow:Model was constructed with shape (None, 160, 160, 3) for input Tensor(\"input_1_8:0\", shape=(None, 160, 160, 3), dtype=float32), but it was called on an input with incompatible shape (None, 289, 229, 3).\n",
            "WARNING:tensorflow:No training configuration found in the save file, so the model was *not* compiled. Compile it manually.\n",
            "WARNING:tensorflow:Model was constructed with shape (None, 160, 160, 3) for input Tensor(\"input_1_9:0\", shape=(None, 160, 160, 3), dtype=float32), but it was called on an input with incompatible shape (None, 289, 228, 3).\n",
            "WARNING:tensorflow:No training configuration found in the save file, so the model was *not* compiled. Compile it manually.\n",
            "WARNING:tensorflow:Model was constructed with shape (None, 160, 160, 3) for input Tensor(\"input_1_10:0\", shape=(None, 160, 160, 3), dtype=float32), but it was called on an input with incompatible shape (None, 288, 229, 3).\n",
            "WARNING:tensorflow:No training configuration found in the save file, so the model was *not* compiled. Compile it manually.\n",
            "WARNING:tensorflow:Model was constructed with shape (None, 160, 160, 3) for input Tensor(\"input_1_11:0\", shape=(None, 160, 160, 3), dtype=float32), but it was called on an input with incompatible shape (None, 289, 229, 3).\n",
            "WARNING:tensorflow:No training configuration found in the save file, so the model was *not* compiled. Compile it manually.\n",
            "WARNING:tensorflow:Model was constructed with shape (None, 160, 160, 3) for input Tensor(\"input_1_12:0\", shape=(None, 160, 160, 3), dtype=float32), but it was called on an input with incompatible shape (None, 292, 230, 3).\n",
            "WARNING:tensorflow:No training configuration found in the save file, so the model was *not* compiled. Compile it manually.\n",
            "WARNING:tensorflow:Model was constructed with shape (None, 160, 160, 3) for input Tensor(\"input_1_13:0\", shape=(None, 160, 160, 3), dtype=float32), but it was called on an input with incompatible shape (None, 292, 229, 3).\n",
            "WARNING:tensorflow:No training configuration found in the save file, so the model was *not* compiled. Compile it manually.\n",
            "WARNING:tensorflow:Model was constructed with shape (None, 160, 160, 3) for input Tensor(\"input_1_14:0\", shape=(None, 160, 160, 3), dtype=float32), but it was called on an input with incompatible shape (None, 292, 230, 3).\n",
            "WARNING:tensorflow:No training configuration found in the save file, so the model was *not* compiled. Compile it manually.\n",
            "WARNING:tensorflow:Model was constructed with shape (None, 160, 160, 3) for input Tensor(\"input_1_15:0\", shape=(None, 160, 160, 3), dtype=float32), but it was called on an input with incompatible shape (None, 291, 226, 3).\n",
            "WARNING:tensorflow:No training configuration found in the save file, so the model was *not* compiled. Compile it manually.\n",
            "WARNING:tensorflow:Model was constructed with shape (None, 160, 160, 3) for input Tensor(\"input_1_16:0\", shape=(None, 160, 160, 3), dtype=float32), but it was called on an input with incompatible shape (None, 292, 228, 3).\n",
            "WARNING:tensorflow:No training configuration found in the save file, so the model was *not* compiled. Compile it manually.\n",
            "WARNING:tensorflow:Model was constructed with shape (None, 160, 160, 3) for input Tensor(\"input_1_17:0\", shape=(None, 160, 160, 3), dtype=float32), but it was called on an input with incompatible shape (None, 291, 227, 3).\n",
            "WARNING:tensorflow:No training configuration found in the save file, so the model was *not* compiled. Compile it manually.\n",
            "WARNING:tensorflow:Model was constructed with shape (None, 160, 160, 3) for input Tensor(\"input_1_18:0\", shape=(None, 160, 160, 3), dtype=float32), but it was called on an input with incompatible shape (None, 288, 228, 3).\n",
            "WARNING:tensorflow:No training configuration found in the save file, so the model was *not* compiled. Compile it manually.\n",
            "WARNING:tensorflow:Model was constructed with shape (None, 160, 160, 3) for input Tensor(\"input_1_19:0\", shape=(None, 160, 160, 3), dtype=float32), but it was called on an input with incompatible shape (None, 287, 227, 3).\n",
            "WARNING:tensorflow:No training configuration found in the save file, so the model was *not* compiled. Compile it manually.\n",
            "WARNING:tensorflow:Model was constructed with shape (None, 160, 160, 3) for input Tensor(\"input_1_20:0\", shape=(None, 160, 160, 3), dtype=float32), but it was called on an input with incompatible shape (None, 287, 229, 3).\n",
            "WARNING:tensorflow:No training configuration found in the save file, so the model was *not* compiled. Compile it manually.\n",
            "WARNING:tensorflow:Model was constructed with shape (None, 160, 160, 3) for input Tensor(\"input_1_21:0\", shape=(None, 160, 160, 3), dtype=float32), but it was called on an input with incompatible shape (None, 285, 222, 3).\n",
            "WARNING:tensorflow:No training configuration found in the save file, so the model was *not* compiled. Compile it manually.\n",
            "WARNING:tensorflow:Model was constructed with shape (None, 160, 160, 3) for input Tensor(\"input_1_22:0\", shape=(None, 160, 160, 3), dtype=float32), but it was called on an input with incompatible shape (None, 284, 221, 3).\n",
            "WARNING:tensorflow:No training configuration found in the save file, so the model was *not* compiled. Compile it manually.\n",
            "WARNING:tensorflow:Model was constructed with shape (None, 160, 160, 3) for input Tensor(\"input_1_23:0\", shape=(None, 160, 160, 3), dtype=float32), but it was called on an input with incompatible shape (None, 284, 225, 3).\n",
            "WARNING:tensorflow:No training configuration found in the save file, so the model was *not* compiled. Compile it manually.\n",
            "WARNING:tensorflow:Model was constructed with shape (None, 160, 160, 3) for input Tensor(\"input_1_24:0\", shape=(None, 160, 160, 3), dtype=float32), but it was called on an input with incompatible shape (None, 288, 228, 3).\n",
            "WARNING:tensorflow:No training configuration found in the save file, so the model was *not* compiled. Compile it manually.\n",
            "WARNING:tensorflow:Model was constructed with shape (None, 160, 160, 3) for input Tensor(\"input_1_25:0\", shape=(None, 160, 160, 3), dtype=float32), but it was called on an input with incompatible shape (None, 288, 229, 3).\n",
            "WARNING:tensorflow:No training configuration found in the save file, so the model was *not* compiled. Compile it manually.\n",
            "WARNING:tensorflow:Model was constructed with shape (None, 160, 160, 3) for input Tensor(\"input_1_26:0\", shape=(None, 160, 160, 3), dtype=float32), but it was called on an input with incompatible shape (None, 288, 229, 3).\n",
            "WARNING:tensorflow:No training configuration found in the save file, so the model was *not* compiled. Compile it manually.\n",
            "WARNING:tensorflow:Model was constructed with shape (None, 160, 160, 3) for input Tensor(\"input_1_27:0\", shape=(None, 160, 160, 3), dtype=float32), but it was called on an input with incompatible shape (None, 286, 228, 3).\n",
            "WARNING:tensorflow:No training configuration found in the save file, so the model was *not* compiled. Compile it manually.\n",
            "WARNING:tensorflow:Model was constructed with shape (None, 160, 160, 3) for input Tensor(\"input_1_28:0\", shape=(None, 160, 160, 3), dtype=float32), but it was called on an input with incompatible shape (None, 287, 228, 3).\n",
            "WARNING:tensorflow:No training configuration found in the save file, so the model was *not* compiled. Compile it manually.\n",
            "WARNING:tensorflow:Model was constructed with shape (None, 160, 160, 3) for input Tensor(\"input_1_29:0\", shape=(None, 160, 160, 3), dtype=float32), but it was called on an input with incompatible shape (None, 277, 222, 3).\n",
            "WARNING:tensorflow:No training configuration found in the save file, so the model was *not* compiled. Compile it manually.\n",
            "WARNING:tensorflow:Model was constructed with shape (None, 160, 160, 3) for input Tensor(\"input_1_30:0\", shape=(None, 160, 160, 3), dtype=float32), but it was called on an input with incompatible shape (None, 276, 221, 3).\n",
            "WARNING:tensorflow:No training configuration found in the save file, so the model was *not* compiled. Compile it manually.\n",
            "WARNING:tensorflow:Model was constructed with shape (None, 160, 160, 3) for input Tensor(\"input_1_31:0\", shape=(None, 160, 160, 3), dtype=float32), but it was called on an input with incompatible shape (None, 278, 223, 3).\n",
            "WARNING:tensorflow:No training configuration found in the save file, so the model was *not* compiled. Compile it manually.\n",
            "WARNING:tensorflow:Model was constructed with shape (None, 160, 160, 3) for input Tensor(\"input_1_32:0\", shape=(None, 160, 160, 3), dtype=float32), but it was called on an input with incompatible shape (None, 277, 221, 3).\n",
            "WARNING:tensorflow:No training configuration found in the save file, so the model was *not* compiled. Compile it manually.\n",
            "WARNING:tensorflow:Model was constructed with shape (None, 160, 160, 3) for input Tensor(\"input_1_33:0\", shape=(None, 160, 160, 3), dtype=float32), but it was called on an input with incompatible shape (None, 273, 220, 3).\n",
            "WARNING:tensorflow:No training configuration found in the save file, so the model was *not* compiled. Compile it manually.\n",
            "WARNING:tensorflow:Model was constructed with shape (None, 160, 160, 3) for input Tensor(\"input_1_34:0\", shape=(None, 160, 160, 3), dtype=float32), but it was called on an input with incompatible shape (None, 272, 220, 3).\n",
            "WARNING:tensorflow:No training configuration found in the save file, so the model was *not* compiled. Compile it manually.\n",
            "WARNING:tensorflow:Model was constructed with shape (None, 160, 160, 3) for input Tensor(\"input_1_35:0\", shape=(None, 160, 160, 3), dtype=float32), but it was called on an input with incompatible shape (None, 283, 223, 3).\n",
            "WARNING:tensorflow:No training configuration found in the save file, so the model was *not* compiled. Compile it manually.\n",
            "WARNING:tensorflow:Model was constructed with shape (None, 160, 160, 3) for input Tensor(\"input_1_36:0\", shape=(None, 160, 160, 3), dtype=float32), but it was called on an input with incompatible shape (None, 282, 225, 3).\n",
            "WARNING:tensorflow:No training configuration found in the save file, so the model was *not* compiled. Compile it manually.\n",
            "WARNING:tensorflow:Model was constructed with shape (None, 160, 160, 3) for input Tensor(\"input_1_37:0\", shape=(None, 160, 160, 3), dtype=float32), but it was called on an input with incompatible shape (None, 293, 229, 3).\n",
            "WARNING:tensorflow:No training configuration found in the save file, so the model was *not* compiled. Compile it manually.\n",
            "WARNING:tensorflow:Model was constructed with shape (None, 160, 160, 3) for input Tensor(\"input_1_38:0\", shape=(None, 160, 160, 3), dtype=float32), but it was called on an input with incompatible shape (None, 295, 229, 3).\n",
            "WARNING:tensorflow:No training configuration found in the save file, so the model was *not* compiled. Compile it manually.\n",
            "WARNING:tensorflow:Model was constructed with shape (None, 160, 160, 3) for input Tensor(\"input_1_39:0\", shape=(None, 160, 160, 3), dtype=float32), but it was called on an input with incompatible shape (None, 295, 229, 3).\n",
            "WARNING:tensorflow:No training configuration found in the save file, so the model was *not* compiled. Compile it manually.\n",
            "WARNING:tensorflow:Model was constructed with shape (None, 160, 160, 3) for input Tensor(\"input_1_40:0\", shape=(None, 160, 160, 3), dtype=float32), but it was called on an input with incompatible shape (None, 296, 228, 3).\n",
            "WARNING:tensorflow:No training configuration found in the save file, so the model was *not* compiled. Compile it manually.\n",
            "WARNING:tensorflow:Model was constructed with shape (None, 160, 160, 3) for input Tensor(\"input_1_41:0\", shape=(None, 160, 160, 3), dtype=float32), but it was called on an input with incompatible shape (None, 296, 229, 3).\n",
            "WARNING:tensorflow:No training configuration found in the save file, so the model was *not* compiled. Compile it manually.\n",
            "WARNING:tensorflow:Model was constructed with shape (None, 160, 160, 3) for input Tensor(\"input_1_42:0\", shape=(None, 160, 160, 3), dtype=float32), but it was called on an input with incompatible shape (None, 296, 228, 3).\n",
            "WARNING:tensorflow:No training configuration found in the save file, so the model was *not* compiled. Compile it manually.\n",
            "WARNING:tensorflow:Model was constructed with shape (None, 160, 160, 3) for input Tensor(\"input_1_43:0\", shape=(None, 160, 160, 3), dtype=float32), but it was called on an input with incompatible shape (None, 303, 232, 3).\n",
            "WARNING:tensorflow:No training configuration found in the save file, so the model was *not* compiled. Compile it manually.\n",
            "WARNING:tensorflow:Model was constructed with shape (None, 160, 160, 3) for input Tensor(\"input_1_44:0\", shape=(None, 160, 160, 3), dtype=float32), but it was called on an input with incompatible shape (None, 289, 228, 3).\n",
            "WARNING:tensorflow:No training configuration found in the save file, so the model was *not* compiled. Compile it manually.\n",
            "WARNING:tensorflow:Model was constructed with shape (None, 160, 160, 3) for input Tensor(\"input_1_45:0\", shape=(None, 160, 160, 3), dtype=float32), but it was called on an input with incompatible shape (None, 288, 227, 3).\n",
            "WARNING:tensorflow:No training configuration found in the save file, so the model was *not* compiled. Compile it manually.\n",
            "WARNING:tensorflow:Model was constructed with shape (None, 160, 160, 3) for input Tensor(\"input_1_46:0\", shape=(None, 160, 160, 3), dtype=float32), but it was called on an input with incompatible shape (None, 288, 227, 3).\n",
            "WARNING:tensorflow:No training configuration found in the save file, so the model was *not* compiled. Compile it manually.\n",
            "WARNING:tensorflow:Model was constructed with shape (None, 160, 160, 3) for input Tensor(\"input_1_47:0\", shape=(None, 160, 160, 3), dtype=float32), but it was called on an input with incompatible shape (None, 289, 228, 3).\n",
            "WARNING:tensorflow:No training configuration found in the save file, so the model was *not* compiled. Compile it manually.\n",
            "WARNING:tensorflow:Model was constructed with shape (None, 160, 160, 3) for input Tensor(\"input_1_48:0\", shape=(None, 160, 160, 3), dtype=float32), but it was called on an input with incompatible shape (None, 291, 227, 3).\n",
            "WARNING:tensorflow:No training configuration found in the save file, so the model was *not* compiled. Compile it manually.\n",
            "WARNING:tensorflow:Model was constructed with shape (None, 160, 160, 3) for input Tensor(\"input_1_49:0\", shape=(None, 160, 160, 3), dtype=float32), but it was called on an input with incompatible shape (None, 288, 227, 3).\n",
            "WARNING:tensorflow:No training configuration found in the save file, so the model was *not* compiled. Compile it manually.\n",
            "WARNING:tensorflow:Model was constructed with shape (None, 160, 160, 3) for input Tensor(\"input_1_50:0\", shape=(None, 160, 160, 3), dtype=float32), but it was called on an input with incompatible shape (None, 287, 227, 3).\n",
            "WARNING:tensorflow:No training configuration found in the save file, so the model was *not* compiled. Compile it manually.\n",
            "WARNING:tensorflow:Model was constructed with shape (None, 160, 160, 3) for input Tensor(\"input_1_51:0\", shape=(None, 160, 160, 3), dtype=float32), but it was called on an input with incompatible shape (None, 288, 228, 3).\n",
            "WARNING:tensorflow:No training configuration found in the save file, so the model was *not* compiled. Compile it manually.\n",
            "WARNING:tensorflow:Model was constructed with shape (None, 160, 160, 3) for input Tensor(\"input_1_52:0\", shape=(None, 160, 160, 3), dtype=float32), but it was called on an input with incompatible shape (None, 288, 228, 3).\n",
            "WARNING:tensorflow:No training configuration found in the save file, so the model was *not* compiled. Compile it manually.\n",
            "WARNING:tensorflow:Model was constructed with shape (None, 160, 160, 3) for input Tensor(\"input_1_53:0\", shape=(None, 160, 160, 3), dtype=float32), but it was called on an input with incompatible shape (None, 293, 230, 3).\n",
            "WARNING:tensorflow:No training configuration found in the save file, so the model was *not* compiled. Compile it manually.\n",
            "WARNING:tensorflow:Model was constructed with shape (None, 160, 160, 3) for input Tensor(\"input_1_54:0\", shape=(None, 160, 160, 3), dtype=float32), but it was called on an input with incompatible shape (None, 298, 230, 3).\n",
            "WARNING:tensorflow:No training configuration found in the save file, so the model was *not* compiled. Compile it manually.\n",
            "WARNING:tensorflow:Model was constructed with shape (None, 160, 160, 3) for input Tensor(\"input_1_55:0\", shape=(None, 160, 160, 3), dtype=float32), but it was called on an input with incompatible shape (None, 298, 230, 3).\n",
            "WARNING:tensorflow:No training configuration found in the save file, so the model was *not* compiled. Compile it manually.\n",
            "WARNING:tensorflow:Model was constructed with shape (None, 160, 160, 3) for input Tensor(\"input_1_56:0\", shape=(None, 160, 160, 3), dtype=float32), but it was called on an input with incompatible shape (None, 296, 229, 3).\n",
            "WARNING:tensorflow:No training configuration found in the save file, so the model was *not* compiled. Compile it manually.\n",
            "WARNING:tensorflow:Model was constructed with shape (None, 160, 160, 3) for input Tensor(\"input_1_57:0\", shape=(None, 160, 160, 3), dtype=float32), but it was called on an input with incompatible shape (None, 298, 229, 3).\n",
            "WARNING:tensorflow:No training configuration found in the save file, so the model was *not* compiled. Compile it manually.\n",
            "WARNING:tensorflow:Model was constructed with shape (None, 160, 160, 3) for input Tensor(\"input_1_58:0\", shape=(None, 160, 160, 3), dtype=float32), but it was called on an input with incompatible shape (None, 298, 227, 3).\n",
            "WARNING:tensorflow:No training configuration found in the save file, so the model was *not* compiled. Compile it manually.\n",
            "WARNING:tensorflow:Model was constructed with shape (None, 160, 160, 3) for input Tensor(\"input_1_59:0\", shape=(None, 160, 160, 3), dtype=float32), but it was called on an input with incompatible shape (None, 301, 231, 3).\n",
            "WARNING:tensorflow:No training configuration found in the save file, so the model was *not* compiled. Compile it manually.\n",
            "WARNING:tensorflow:Model was constructed with shape (None, 160, 160, 3) for input Tensor(\"input_1_60:0\", shape=(None, 160, 160, 3), dtype=float32), but it was called on an input with incompatible shape (None, 294, 225, 3).\n",
            "WARNING:tensorflow:No training configuration found in the save file, so the model was *not* compiled. Compile it manually.\n",
            "WARNING:tensorflow:Model was constructed with shape (None, 160, 160, 3) for input Tensor(\"input_1_61:0\", shape=(None, 160, 160, 3), dtype=float32), but it was called on an input with incompatible shape (None, 301, 231, 3).\n",
            "WARNING:tensorflow:No training configuration found in the save file, so the model was *not* compiled. Compile it manually.\n",
            "WARNING:tensorflow:Model was constructed with shape (None, 160, 160, 3) for input Tensor(\"input_1_62:0\", shape=(None, 160, 160, 3), dtype=float32), but it was called on an input with incompatible shape (None, 297, 232, 3).\n",
            "WARNING:tensorflow:No training configuration found in the save file, so the model was *not* compiled. Compile it manually.\n",
            "WARNING:tensorflow:Model was constructed with shape (None, 160, 160, 3) for input Tensor(\"input_1_63:0\", shape=(None, 160, 160, 3), dtype=float32), but it was called on an input with incompatible shape (None, 299, 231, 3).\n",
            "WARNING:tensorflow:No training configuration found in the save file, so the model was *not* compiled. Compile it manually.\n",
            "WARNING:tensorflow:Model was constructed with shape (None, 160, 160, 3) for input Tensor(\"input_1_64:0\", shape=(None, 160, 160, 3), dtype=float32), but it was called on an input with incompatible shape (None, 299, 231, 3).\n",
            "WARNING:tensorflow:No training configuration found in the save file, so the model was *not* compiled. Compile it manually.\n",
            "WARNING:tensorflow:Model was constructed with shape (None, 160, 160, 3) for input Tensor(\"input_1_65:0\", shape=(None, 160, 160, 3), dtype=float32), but it was called on an input with incompatible shape (None, 300, 231, 3).\n",
            "WARNING:tensorflow:No training configuration found in the save file, so the model was *not* compiled. Compile it manually.\n",
            "WARNING:tensorflow:Model was constructed with shape (None, 160, 160, 3) for input Tensor(\"input_1_66:0\", shape=(None, 160, 160, 3), dtype=float32), but it was called on an input with incompatible shape (None, 298, 230, 3).\n",
            "WARNING:tensorflow:No training configuration found in the save file, so the model was *not* compiled. Compile it manually.\n",
            "WARNING:tensorflow:Model was constructed with shape (None, 160, 160, 3) for input Tensor(\"input_1_67:0\", shape=(None, 160, 160, 3), dtype=float32), but it was called on an input with incompatible shape (None, 296, 229, 3).\n",
            "WARNING:tensorflow:No training configuration found in the save file, so the model was *not* compiled. Compile it manually.\n",
            "WARNING:tensorflow:Model was constructed with shape (None, 160, 160, 3) for input Tensor(\"input_1_68:0\", shape=(None, 160, 160, 3), dtype=float32), but it was called on an input with incompatible shape (None, 296, 229, 3).\n",
            "WARNING:tensorflow:No training configuration found in the save file, so the model was *not* compiled. Compile it manually.\n",
            "WARNING:tensorflow:Model was constructed with shape (None, 160, 160, 3) for input Tensor(\"input_1_69:0\", shape=(None, 160, 160, 3), dtype=float32), but it was called on an input with incompatible shape (None, 296, 228, 3).\n",
            "WARNING:tensorflow:No training configuration found in the save file, so the model was *not* compiled. Compile it manually.\n",
            "WARNING:tensorflow:Model was constructed with shape (None, 160, 160, 3) for input Tensor(\"input_1_70:0\", shape=(None, 160, 160, 3), dtype=float32), but it was called on an input with incompatible shape (None, 295, 227, 3).\n",
            "WARNING:tensorflow:No training configuration found in the save file, so the model was *not* compiled. Compile it manually.\n",
            "WARNING:tensorflow:Model was constructed with shape (None, 160, 160, 3) for input Tensor(\"input_1_71:0\", shape=(None, 160, 160, 3), dtype=float32), but it was called on an input with incompatible shape (None, 295, 227, 3).\n",
            "WARNING:tensorflow:No training configuration found in the save file, so the model was *not* compiled. Compile it manually.\n",
            "WARNING:tensorflow:Model was constructed with shape (None, 160, 160, 3) for input Tensor(\"input_1_72:0\", shape=(None, 160, 160, 3), dtype=float32), but it was called on an input with incompatible shape (None, 296, 228, 3).\n",
            "WARNING:tensorflow:No training configuration found in the save file, so the model was *not* compiled. Compile it manually.\n",
            "WARNING:tensorflow:Model was constructed with shape (None, 160, 160, 3) for input Tensor(\"input_1_73:0\", shape=(None, 160, 160, 3), dtype=float32), but it was called on an input with incompatible shape (None, 294, 227, 3).\n",
            "WARNING:tensorflow:No training configuration found in the save file, so the model was *not* compiled. Compile it manually.\n",
            "WARNING:tensorflow:Model was constructed with shape (None, 160, 160, 3) for input Tensor(\"input_1_74:0\", shape=(None, 160, 160, 3), dtype=float32), but it was called on an input with incompatible shape (None, 296, 229, 3).\n",
            "WARNING:tensorflow:No training configuration found in the save file, so the model was *not* compiled. Compile it manually.\n",
            "WARNING:tensorflow:Model was constructed with shape (None, 160, 160, 3) for input Tensor(\"input_1_75:0\", shape=(None, 160, 160, 3), dtype=float32), but it was called on an input with incompatible shape (None, 293, 225, 3).\n",
            "WARNING:tensorflow:No training configuration found in the save file, so the model was *not* compiled. Compile it manually.\n",
            "WARNING:tensorflow:Model was constructed with shape (None, 160, 160, 3) for input Tensor(\"input_1_76:0\", shape=(None, 160, 160, 3), dtype=float32), but it was called on an input with incompatible shape (None, 294, 226, 3).\n",
            "WARNING:tensorflow:No training configuration found in the save file, so the model was *not* compiled. Compile it manually.\n",
            "WARNING:tensorflow:Model was constructed with shape (None, 160, 160, 3) for input Tensor(\"input_1_77:0\", shape=(None, 160, 160, 3), dtype=float32), but it was called on an input with incompatible shape (None, 292, 225, 3).\n",
            "WARNING:tensorflow:No training configuration found in the save file, so the model was *not* compiled. Compile it manually.\n",
            "WARNING:tensorflow:Model was constructed with shape (None, 160, 160, 3) for input Tensor(\"input_1_78:0\", shape=(None, 160, 160, 3), dtype=float32), but it was called on an input with incompatible shape (None, 294, 227, 3).\n",
            "WARNING:tensorflow:No training configuration found in the save file, so the model was *not* compiled. Compile it manually.\n",
            "WARNING:tensorflow:Model was constructed with shape (None, 160, 160, 3) for input Tensor(\"input_1_79:0\", shape=(None, 160, 160, 3), dtype=float32), but it was called on an input with incompatible shape (None, 294, 227, 3).\n",
            "WARNING:tensorflow:No training configuration found in the save file, so the model was *not* compiled. Compile it manually.\n",
            "WARNING:tensorflow:Model was constructed with shape (None, 160, 160, 3) for input Tensor(\"input_1_80:0\", shape=(None, 160, 160, 3), dtype=float32), but it was called on an input with incompatible shape (None, 294, 226, 3).\n",
            "WARNING:tensorflow:No training configuration found in the save file, so the model was *not* compiled. Compile it manually.\n",
            "WARNING:tensorflow:Model was constructed with shape (None, 160, 160, 3) for input Tensor(\"input_1_81:0\", shape=(None, 160, 160, 3), dtype=float32), but it was called on an input with incompatible shape (None, 297, 227, 3).\n",
            "WARNING:tensorflow:No training configuration found in the save file, so the model was *not* compiled. Compile it manually.\n",
            "WARNING:tensorflow:Model was constructed with shape (None, 160, 160, 3) for input Tensor(\"input_1_82:0\", shape=(None, 160, 160, 3), dtype=float32), but it was called on an input with incompatible shape (None, 296, 227, 3).\n",
            "WARNING:tensorflow:No training configuration found in the save file, so the model was *not* compiled. Compile it manually.\n",
            "WARNING:tensorflow:Model was constructed with shape (None, 160, 160, 3) for input Tensor(\"input_1_83:0\", shape=(None, 160, 160, 3), dtype=float32), but it was called on an input with incompatible shape (None, 295, 226, 3).\n",
            "WARNING:tensorflow:No training configuration found in the save file, so the model was *not* compiled. Compile it manually.\n",
            "WARNING:tensorflow:Model was constructed with shape (None, 160, 160, 3) for input Tensor(\"input_1_84:0\", shape=(None, 160, 160, 3), dtype=float32), but it was called on an input with incompatible shape (None, 295, 226, 3).\n",
            "WARNING:tensorflow:No training configuration found in the save file, so the model was *not* compiled. Compile it manually.\n",
            "WARNING:tensorflow:Model was constructed with shape (None, 160, 160, 3) for input Tensor(\"input_1_85:0\", shape=(None, 160, 160, 3), dtype=float32), but it was called on an input with incompatible shape (None, 295, 226, 3).\n",
            "WARNING:tensorflow:No training configuration found in the save file, so the model was *not* compiled. Compile it manually.\n",
            "WARNING:tensorflow:Model was constructed with shape (None, 160, 160, 3) for input Tensor(\"input_1_86:0\", shape=(None, 160, 160, 3), dtype=float32), but it was called on an input with incompatible shape (None, 294, 225, 3).\n"
          ],
          "name": "stdout"
        }
      ]
    },
    {
      "cell_type": "code",
      "metadata": {
        "id": "9LSChzdvAnum"
      },
      "source": [
        ""
      ],
      "execution_count": null,
      "outputs": []
    }
  ]
}