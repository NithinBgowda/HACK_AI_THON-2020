{
  "nbformat": 4,
  "nbformat_minor": 0,
  "metadata": {
    "colab": {
      "name": "end_station.ipynb",
      "provenance": []
    },
    "kernelspec": {
      "name": "python3",
      "display_name": "Python 3"
    }
  },
  "cells": [
    {
      "cell_type": "code",
      "metadata": {
        "id": "XRcaUN72ORSH",
        "outputId": "f554f4c8-6304-4160-8d5a-580145e34642",
        "colab": {
          "base_uri": "https://localhost:8080/"
        }
      },
      "source": [
        "from google.colab import drive\n",
        "drive.mount('/content/drive')"
      ],
      "execution_count": 22,
      "outputs": [
        {
          "output_type": "stream",
          "text": [
            "Drive already mounted at /content/drive; to attempt to forcibly remount, call drive.mount(\"/content/drive\", force_remount=True).\n"
          ],
          "name": "stdout"
        }
      ]
    },
    {
      "cell_type": "code",
      "metadata": {
        "id": "PvlDdccQ_xnD",
        "outputId": "10c04996-3566-489f-a10f-b0114b2078a4",
        "colab": {
          "base_uri": "https://localhost:8080/"
        }
      },
      "source": [
        "!pip install pymysql"
      ],
      "execution_count": 9,
      "outputs": [
        {
          "output_type": "stream",
          "text": [
            "Collecting pymysql\n",
            "\u001b[?25l  Downloading https://files.pythonhosted.org/packages/1a/ea/dd9c81e2d85efd03cfbf808736dd055bd9ea1a78aea9968888b1055c3263/PyMySQL-0.10.1-py2.py3-none-any.whl (47kB)\n",
            "\r\u001b[K     |██████▉                         | 10kB 16.3MB/s eta 0:00:01\r\u001b[K     |█████████████▊                  | 20kB 21.5MB/s eta 0:00:01\r\u001b[K     |████████████████████▌           | 30kB 25.9MB/s eta 0:00:01\r\u001b[K     |███████████████████████████▍    | 40kB 20.2MB/s eta 0:00:01\r\u001b[K     |████████████████████████████████| 51kB 5.0MB/s \n",
            "\u001b[?25hInstalling collected packages: pymysql\n",
            "Successfully installed pymysql-0.10.1\n"
          ],
          "name": "stdout"
        }
      ]
    },
    {
      "cell_type": "code",
      "metadata": {
        "id": "DmGNPipo84pV"
      },
      "source": [
        "import pymysql\n",
        "from datetime import datetime\n",
        "\n",
        "mydb = pymysql.connect(\n",
        "    host=\"remotemysql.com\",\n",
        "    user=\"jsdmPgLJ0k\",\n",
        "    password=\"t0XUXdJsm9\",\n",
        "    database=\"jsdmPgLJ0k\",\n",
        ")\n",
        "mycursor = mydb.cursor()\n"
      ],
      "execution_count": 24,
      "outputs": []
    },
    {
      "cell_type": "code",
      "metadata": {
        "id": "rjjqcEff75Gb",
        "outputId": "e02f4dbe-7771-4f3a-9b78-3ab3d17005a3",
        "colab": {
          "base_uri": "https://localhost:8080/"
        }
      },
      "source": [
        "!pip install mtcnn"
      ],
      "execution_count": 25,
      "outputs": [
        {
          "output_type": "stream",
          "text": [
            "Requirement already satisfied: mtcnn in /usr/local/lib/python3.6/dist-packages (0.1.0)\n",
            "Requirement already satisfied: opencv-python>=4.1.0 in /usr/local/lib/python3.6/dist-packages (from mtcnn) (4.1.2.30)\n",
            "Requirement already satisfied: keras>=2.0.0 in /usr/local/lib/python3.6/dist-packages (from mtcnn) (2.4.3)\n",
            "Requirement already satisfied: numpy>=1.11.3 in /usr/local/lib/python3.6/dist-packages (from opencv-python>=4.1.0->mtcnn) (1.18.5)\n",
            "Requirement already satisfied: h5py in /usr/local/lib/python3.6/dist-packages (from keras>=2.0.0->mtcnn) (2.10.0)\n",
            "Requirement already satisfied: scipy>=0.14 in /usr/local/lib/python3.6/dist-packages (from keras>=2.0.0->mtcnn) (1.4.1)\n",
            "Requirement already satisfied: pyyaml in /usr/local/lib/python3.6/dist-packages (from keras>=2.0.0->mtcnn) (3.13)\n",
            "Requirement already satisfied: six in /usr/local/lib/python3.6/dist-packages (from h5py->keras>=2.0.0->mtcnn) (1.15.0)\n"
          ],
          "name": "stdout"
        }
      ]
    },
    {
      "cell_type": "code",
      "metadata": {
        "id": "y5gHiGyd8Ery",
        "outputId": "542c3520-8c05-4f57-be89-dc32756f9691",
        "colab": {
          "base_uri": "https://localhost:8080/"
        }
      },
      "source": [
        "!pip install expiringdict"
      ],
      "execution_count": 26,
      "outputs": [
        {
          "output_type": "stream",
          "text": [
            "Requirement already satisfied: expiringdict in /usr/local/lib/python3.6/dist-packages (1.2.1)\n"
          ],
          "name": "stdout"
        }
      ]
    },
    {
      "cell_type": "code",
      "metadata": {
        "id": "AraOONLS8Cja",
        "outputId": "54a6f3e9-634d-4a00-f500-1490ef08e342",
        "colab": {
          "base_uri": "https://localhost:8080/"
        }
      },
      "source": [
        "from random import choice\n",
        "from numpy import load\n",
        "from numpy import expand_dims\n",
        "from sklearn.preprocessing import LabelEncoder\n",
        "from sklearn.preprocessing import Normalizer\n",
        "from sklearn.svm import SVC\n",
        "from matplotlib import pyplot\n",
        "# load faces\n",
        "data = load('/content/drive/My Drive/Metro project/data.npz')\n",
        "testX_faces = data['arr_2']\n",
        "# load face embeddings\n",
        "data = load('/content/drive/My Drive/Metro project/Data-faces-embeddings.npz')\n",
        "trainX, trainy, testX, testy = data['arr_0'], data['arr_1'], data['arr_2'], data['arr_3']\n",
        "# normalize input vectors\n",
        "in_encoder = Normalizer(norm='l2')\n",
        "trainX = in_encoder.transform(trainX)\n",
        "testX = in_encoder.transform(testX)\n",
        "# label encode targets\n",
        "out_encoder = LabelEncoder()\n",
        "out_encoder.fit(trainy)\n",
        "trainy = out_encoder.transform(trainy)\n",
        "testy = out_encoder.transform(testy)\n",
        "# fit model\n",
        "model1 = SVC(kernel='linear', probability=True)\n",
        "model1.fit(trainX, trainy)"
      ],
      "execution_count": 27,
      "outputs": [
        {
          "output_type": "execute_result",
          "data": {
            "text/plain": [
              "SVC(C=1.0, break_ties=False, cache_size=200, class_weight=None, coef0=0.0,\n",
              "    decision_function_shape='ovr', degree=3, gamma='scale', kernel='linear',\n",
              "    max_iter=-1, probability=True, random_state=None, shrinking=True, tol=0.001,\n",
              "    verbose=False)"
            ]
          },
          "metadata": {
            "tags": []
          },
          "execution_count": 27
        }
      ]
    },
    {
      "cell_type": "code",
      "metadata": {
        "id": "Yc3aS1ma8Heh",
        "outputId": "806766f6-151a-4fb3-9805-aefab2f19c40",
        "colab": {
          "base_uri": "https://localhost:8080/"
        }
      },
      "source": [
        "from matplotlib import pyplot\n",
        "from PIL import Image\n",
        "from numpy import asarray\n",
        "from mtcnn.mtcnn import MTCNN\n",
        "import cv2\n",
        "from numpy import load\n",
        "from numpy import expand_dims\n",
        "from numpy import savez_compressed\n",
        "from keras.models import load_model\n",
        "from expiringdict import ExpiringDict\n",
        "curr_pass= ExpiringDict(max_len=100, max_age_seconds=600)\n",
        "detector=MTCNN()\n",
        "\n",
        "def get_embedding(model, face_pixels):\n",
        "    face_pixels = face_pixels.astype('float32')\n",
        "    mean, std = face_pixels.mean(), face_pixels.std()\n",
        "    face_pixels = (face_pixels - mean) / std\n",
        "    samples = expand_dims(face_pixels, axis=0)\n",
        "    yhat = model.predict(samples)\n",
        "    return yhat[0]\n",
        "\n",
        "\n",
        "cap = cv2.VideoCapture(\"/content/drive/MyDrive/Metro project/test2.mp4\")\n",
        "while True: \n",
        "    #Capture frame-by-frame\n",
        "    ret, frame = cap.read()\n",
        "    #Use MTCNN to detect faces\n",
        "    result = detector.detect_faces(frame)\n",
        "    \n",
        "    if result != []:\n",
        "        for person in result:\n",
        "            bounding_box = person['box']\n",
        "            keypoints = person['keypoints']\n",
        "            for i in range(0,3):\n",
        "                if(bounding_box[i]<0):\n",
        "                    bounding_box[i]=0\n",
        "            # print(\"Printing BB\")\n",
        "            # print(bounding_box)\n",
        "            cv2.rectangle(frame,\n",
        "                          (bounding_box[0], bounding_box[1]),\n",
        "                          (bounding_box[0]+bounding_box[2], bounding_box[1] + bounding_box[3]),\n",
        "                          (0,155,255),\n",
        "                          2)\n",
        "            x,y,w,h = bounding_box\n",
        "            cropped_array = frame[y:y+h, x:x+w]\n",
        "            numarr=asarray(cropped_array)\n",
        "            model = load_model('/content/drive/My Drive/Metro project/keras-facenet/model/facenet_keras.h5')\n",
        "            embed=get_embedding(model,numarr)\n",
        "            samples = expand_dims(embed, axis=0)\n",
        "            yhat_class = model1.predict(samples)\n",
        "            yhat_prob = model1.predict_proba(samples)\n",
        "\n",
        "\n",
        "# get name\n",
        "            class_index = yhat_class[0]\n",
        "            class_probability = yhat_prob[0,class_index] * 100\n",
        "            predict_names = out_encoder.inverse_transform(yhat_class)\n",
        "            if predict_names[0] not in curr_pass.keys() :\n",
        "              curr_pass[predict_names[0]]=1\n",
        "              if predict_names[0]=='Nitya':\n",
        "                PID=31\n",
        "              elif predict_names[0]=='Bhumi':\n",
        "                PID=32\n",
        "              elif predict_names[0]=='Khush':\n",
        "                PID=33\n",
        "              elif predict_names[0]=='Likith':\n",
        "                PID=34\n",
        "              EndID = 4  # EndStationID\n",
        "              now = datetime.now()\n",
        "              formatted_date = now.strftime('%Y-%m-%d %H:%M:%S')\n",
        "\n",
        "              mycursor.execute( \"\"\"SELECT TicketID,StartID FROM TravelRecord WHERE PID= '%s' and Fare is NULL\"\"\" % (PID))\n",
        "              myresult = mycursor.fetchone()\n",
        "\n",
        "              StartID = myresult[1]\n",
        "              Ticket = myresult[0]\n",
        "              Fare = abs(StartID-EndID)*10\n",
        "\n",
        "              mycursor.execute(\"\"\"UPDATE TravelRecord SET EndID='%s', EndTime='%s', Fare='%s' WHERE TicketID = '%s'\"\"\" % (\n",
        "                  EndID, formatted_date, Fare, Ticket))\n",
        "\n",
        "              mydb.commit()\n",
        "              print(mycursor.rowcount, \"record updated.\")\n",
        "              print('Predicted: %s (%.3f)' % (predict_names[0], class_probability))\n",
        "            print(curr_pass)\n",
        "            # print(model1.predict(samples))\n",
        "            # cv2.imshow(\"cropped\", cropped_array)\n",
        "            # print(numarr)\n",
        "    if cv2.waitKey(1) &0xFF == ord('q'):\n",
        "        break\n",
        "#When everything's done, release capture\n",
        "\n",
        "cap.release()\n",
        "cv2.destroyAllWindows()\n"
      ],
      "execution_count": null,
      "outputs": [
        {
          "output_type": "stream",
          "text": [
            "WARNING:tensorflow:5 out of the last 14 calls to <function Model.make_predict_function.<locals>.predict_function at 0x7f4a91766268> triggered tf.function retracing. Tracing is expensive and the excessive number of tracings could be due to (1) creating @tf.function repeatedly in a loop, (2) passing tensors with different shapes, (3) passing Python objects instead of tensors. For (1), please define your @tf.function outside of the loop. For (2), @tf.function has experimental_relax_shapes=True option that relaxes argument shapes that can avoid unnecessary retracing. For (3), please refer to https://www.tensorflow.org/tutorials/customization/performance#python_or_tensor_args and https://www.tensorflow.org/api_docs/python/tf/function for  more details.\n",
            "WARNING:tensorflow:6 out of the last 15 calls to <function Model.make_predict_function.<locals>.predict_function at 0x7f4a91766268> triggered tf.function retracing. Tracing is expensive and the excessive number of tracings could be due to (1) creating @tf.function repeatedly in a loop, (2) passing tensors with different shapes, (3) passing Python objects instead of tensors. For (1), please define your @tf.function outside of the loop. For (2), @tf.function has experimental_relax_shapes=True option that relaxes argument shapes that can avoid unnecessary retracing. For (3), please refer to https://www.tensorflow.org/tutorials/customization/performance#python_or_tensor_args and https://www.tensorflow.org/api_docs/python/tf/function for  more details.\n",
            "WARNING:tensorflow:7 out of the last 16 calls to <function Model.make_predict_function.<locals>.predict_function at 0x7f4a91766268> triggered tf.function retracing. Tracing is expensive and the excessive number of tracings could be due to (1) creating @tf.function repeatedly in a loop, (2) passing tensors with different shapes, (3) passing Python objects instead of tensors. For (1), please define your @tf.function outside of the loop. For (2), @tf.function has experimental_relax_shapes=True option that relaxes argument shapes that can avoid unnecessary retracing. For (3), please refer to https://www.tensorflow.org/tutorials/customization/performance#python_or_tensor_args and https://www.tensorflow.org/api_docs/python/tf/function for  more details.\n",
            "WARNING:tensorflow:No training configuration found in the save file, so the model was *not* compiled. Compile it manually.\n",
            "WARNING:tensorflow:Model was constructed with shape (None, 160, 160, 3) for input Tensor(\"input_1_12:0\", shape=(None, 160, 160, 3), dtype=float32), but it was called on an input with incompatible shape (None, 255, 206, 3).\n",
            "1 record updated.\n",
            "Predicted: Khush (99.991)\n",
            "ExpiringDict([('Khush', 1)])\n",
            "WARNING:tensorflow:No training configuration found in the save file, so the model was *not* compiled. Compile it manually.\n",
            "WARNING:tensorflow:Model was constructed with shape (None, 160, 160, 3) for input Tensor(\"input_1_13:0\", shape=(None, 160, 160, 3), dtype=float32), but it was called on an input with incompatible shape (None, 284, 225, 3).\n",
            "ExpiringDict([('Khush', 1)])\n",
            "WARNING:tensorflow:No training configuration found in the save file, so the model was *not* compiled. Compile it manually.\n",
            "WARNING:tensorflow:Model was constructed with shape (None, 160, 160, 3) for input Tensor(\"input_1_14:0\", shape=(None, 160, 160, 3), dtype=float32), but it was called on an input with incompatible shape (None, 286, 227, 3).\n",
            "ExpiringDict([('Khush', 1)])\n",
            "WARNING:tensorflow:No training configuration found in the save file, so the model was *not* compiled. Compile it manually.\n",
            "WARNING:tensorflow:Model was constructed with shape (None, 160, 160, 3) for input Tensor(\"input_1_15:0\", shape=(None, 160, 160, 3), dtype=float32), but it was called on an input with incompatible shape (None, 285, 227, 3).\n",
            "ExpiringDict([('Khush', 1)])\n",
            "WARNING:tensorflow:No training configuration found in the save file, so the model was *not* compiled. Compile it manually.\n",
            "WARNING:tensorflow:Model was constructed with shape (None, 160, 160, 3) for input Tensor(\"input_1_16:0\", shape=(None, 160, 160, 3), dtype=float32), but it was called on an input with incompatible shape (None, 287, 228, 3).\n",
            "ExpiringDict([('Khush', 1)])\n",
            "WARNING:tensorflow:No training configuration found in the save file, so the model was *not* compiled. Compile it manually.\n",
            "WARNING:tensorflow:Model was constructed with shape (None, 160, 160, 3) for input Tensor(\"input_1_17:0\", shape=(None, 160, 160, 3), dtype=float32), but it was called on an input with incompatible shape (None, 287, 226, 3).\n",
            "ExpiringDict([('Khush', 1)])\n",
            "WARNING:tensorflow:No training configuration found in the save file, so the model was *not* compiled. Compile it manually.\n",
            "WARNING:tensorflow:Model was constructed with shape (None, 160, 160, 3) for input Tensor(\"input_1_18:0\", shape=(None, 160, 160, 3), dtype=float32), but it was called on an input with incompatible shape (None, 288, 229, 3).\n",
            "ExpiringDict([('Khush', 1)])\n",
            "WARNING:tensorflow:No training configuration found in the save file, so the model was *not* compiled. Compile it manually.\n",
            "WARNING:tensorflow:Model was constructed with shape (None, 160, 160, 3) for input Tensor(\"input_1_19:0\", shape=(None, 160, 160, 3), dtype=float32), but it was called on an input with incompatible shape (None, 289, 229, 3).\n",
            "ExpiringDict([('Khush', 1)])\n",
            "WARNING:tensorflow:No training configuration found in the save file, so the model was *not* compiled. Compile it manually.\n",
            "WARNING:tensorflow:Model was constructed with shape (None, 160, 160, 3) for input Tensor(\"input_1_20:0\", shape=(None, 160, 160, 3), dtype=float32), but it was called on an input with incompatible shape (None, 289, 228, 3).\n",
            "ExpiringDict([('Khush', 1)])\n",
            "WARNING:tensorflow:No training configuration found in the save file, so the model was *not* compiled. Compile it manually.\n",
            "WARNING:tensorflow:Model was constructed with shape (None, 160, 160, 3) for input Tensor(\"input_1_21:0\", shape=(None, 160, 160, 3), dtype=float32), but it was called on an input with incompatible shape (None, 288, 229, 3).\n",
            "ExpiringDict([('Khush', 1)])\n",
            "WARNING:tensorflow:No training configuration found in the save file, so the model was *not* compiled. Compile it manually.\n",
            "WARNING:tensorflow:Model was constructed with shape (None, 160, 160, 3) for input Tensor(\"input_1_22:0\", shape=(None, 160, 160, 3), dtype=float32), but it was called on an input with incompatible shape (None, 289, 229, 3).\n",
            "ExpiringDict([('Khush', 1)])\n",
            "WARNING:tensorflow:No training configuration found in the save file, so the model was *not* compiled. Compile it manually.\n",
            "WARNING:tensorflow:Model was constructed with shape (None, 160, 160, 3) for input Tensor(\"input_1_23:0\", shape=(None, 160, 160, 3), dtype=float32), but it was called on an input with incompatible shape (None, 292, 230, 3).\n",
            "ExpiringDict([('Khush', 1)])\n",
            "WARNING:tensorflow:No training configuration found in the save file, so the model was *not* compiled. Compile it manually.\n",
            "WARNING:tensorflow:Model was constructed with shape (None, 160, 160, 3) for input Tensor(\"input_1_24:0\", shape=(None, 160, 160, 3), dtype=float32), but it was called on an input with incompatible shape (None, 292, 229, 3).\n",
            "ExpiringDict([('Khush', 1)])\n",
            "WARNING:tensorflow:No training configuration found in the save file, so the model was *not* compiled. Compile it manually.\n",
            "WARNING:tensorflow:Model was constructed with shape (None, 160, 160, 3) for input Tensor(\"input_1_25:0\", shape=(None, 160, 160, 3), dtype=float32), but it was called on an input with incompatible shape (None, 292, 230, 3).\n",
            "ExpiringDict([('Khush', 1)])\n",
            "WARNING:tensorflow:No training configuration found in the save file, so the model was *not* compiled. Compile it manually.\n",
            "WARNING:tensorflow:Model was constructed with shape (None, 160, 160, 3) for input Tensor(\"input_1_26:0\", shape=(None, 160, 160, 3), dtype=float32), but it was called on an input with incompatible shape (None, 291, 226, 3).\n",
            "ExpiringDict([('Khush', 1)])\n",
            "WARNING:tensorflow:No training configuration found in the save file, so the model was *not* compiled. Compile it manually.\n",
            "WARNING:tensorflow:Model was constructed with shape (None, 160, 160, 3) for input Tensor(\"input_1_27:0\", shape=(None, 160, 160, 3), dtype=float32), but it was called on an input with incompatible shape (None, 292, 228, 3).\n",
            "ExpiringDict([('Khush', 1)])\n",
            "WARNING:tensorflow:No training configuration found in the save file, so the model was *not* compiled. Compile it manually.\n",
            "WARNING:tensorflow:Model was constructed with shape (None, 160, 160, 3) for input Tensor(\"input_1_28:0\", shape=(None, 160, 160, 3), dtype=float32), but it was called on an input with incompatible shape (None, 291, 227, 3).\n",
            "ExpiringDict([('Khush', 1)])\n",
            "WARNING:tensorflow:No training configuration found in the save file, so the model was *not* compiled. Compile it manually.\n",
            "WARNING:tensorflow:Model was constructed with shape (None, 160, 160, 3) for input Tensor(\"input_1_29:0\", shape=(None, 160, 160, 3), dtype=float32), but it was called on an input with incompatible shape (None, 288, 228, 3).\n",
            "ExpiringDict([('Khush', 1)])\n",
            "WARNING:tensorflow:No training configuration found in the save file, so the model was *not* compiled. Compile it manually.\n",
            "WARNING:tensorflow:Model was constructed with shape (None, 160, 160, 3) for input Tensor(\"input_1_30:0\", shape=(None, 160, 160, 3), dtype=float32), but it was called on an input with incompatible shape (None, 287, 227, 3).\n",
            "ExpiringDict([('Khush', 1)])\n",
            "WARNING:tensorflow:No training configuration found in the save file, so the model was *not* compiled. Compile it manually.\n",
            "WARNING:tensorflow:Model was constructed with shape (None, 160, 160, 3) for input Tensor(\"input_1_31:0\", shape=(None, 160, 160, 3), dtype=float32), but it was called on an input with incompatible shape (None, 287, 229, 3).\n",
            "ExpiringDict([('Khush', 1)])\n",
            "WARNING:tensorflow:No training configuration found in the save file, so the model was *not* compiled. Compile it manually.\n",
            "WARNING:tensorflow:Model was constructed with shape (None, 160, 160, 3) for input Tensor(\"input_1_32:0\", shape=(None, 160, 160, 3), dtype=float32), but it was called on an input with incompatible shape (None, 285, 222, 3).\n",
            "ExpiringDict([('Khush', 1)])\n",
            "WARNING:tensorflow:No training configuration found in the save file, so the model was *not* compiled. Compile it manually.\n",
            "WARNING:tensorflow:Model was constructed with shape (None, 160, 160, 3) for input Tensor(\"input_1_33:0\", shape=(None, 160, 160, 3), dtype=float32), but it was called on an input with incompatible shape (None, 284, 221, 3).\n",
            "ExpiringDict([('Khush', 1)])\n",
            "WARNING:tensorflow:No training configuration found in the save file, so the model was *not* compiled. Compile it manually.\n",
            "WARNING:tensorflow:Model was constructed with shape (None, 160, 160, 3) for input Tensor(\"input_1_34:0\", shape=(None, 160, 160, 3), dtype=float32), but it was called on an input with incompatible shape (None, 284, 225, 3).\n",
            "ExpiringDict([('Khush', 1)])\n",
            "WARNING:tensorflow:No training configuration found in the save file, so the model was *not* compiled. Compile it manually.\n",
            "WARNING:tensorflow:Model was constructed with shape (None, 160, 160, 3) for input Tensor(\"input_1_35:0\", shape=(None, 160, 160, 3), dtype=float32), but it was called on an input with incompatible shape (None, 288, 228, 3).\n",
            "ExpiringDict([('Khush', 1)])\n",
            "WARNING:tensorflow:No training configuration found in the save file, so the model was *not* compiled. Compile it manually.\n",
            "WARNING:tensorflow:Model was constructed with shape (None, 160, 160, 3) for input Tensor(\"input_1_36:0\", shape=(None, 160, 160, 3), dtype=float32), but it was called on an input with incompatible shape (None, 288, 229, 3).\n",
            "ExpiringDict([('Khush', 1)])\n",
            "WARNING:tensorflow:No training configuration found in the save file, so the model was *not* compiled. Compile it manually.\n",
            "WARNING:tensorflow:Model was constructed with shape (None, 160, 160, 3) for input Tensor(\"input_1_37:0\", shape=(None, 160, 160, 3), dtype=float32), but it was called on an input with incompatible shape (None, 288, 229, 3).\n",
            "ExpiringDict([('Khush', 1)])\n",
            "WARNING:tensorflow:No training configuration found in the save file, so the model was *not* compiled. Compile it manually.\n",
            "WARNING:tensorflow:Model was constructed with shape (None, 160, 160, 3) for input Tensor(\"input_1_38:0\", shape=(None, 160, 160, 3), dtype=float32), but it was called on an input with incompatible shape (None, 286, 228, 3).\n",
            "ExpiringDict([('Khush', 1)])\n",
            "WARNING:tensorflow:No training configuration found in the save file, so the model was *not* compiled. Compile it manually.\n",
            "WARNING:tensorflow:Model was constructed with shape (None, 160, 160, 3) for input Tensor(\"input_1_39:0\", shape=(None, 160, 160, 3), dtype=float32), but it was called on an input with incompatible shape (None, 287, 228, 3).\n",
            "ExpiringDict([('Khush', 1)])\n",
            "WARNING:tensorflow:No training configuration found in the save file, so the model was *not* compiled. Compile it manually.\n",
            "WARNING:tensorflow:Model was constructed with shape (None, 160, 160, 3) for input Tensor(\"input_1_40:0\", shape=(None, 160, 160, 3), dtype=float32), but it was called on an input with incompatible shape (None, 277, 222, 3).\n",
            "ExpiringDict([('Khush', 1)])\n",
            "WARNING:tensorflow:No training configuration found in the save file, so the model was *not* compiled. Compile it manually.\n",
            "WARNING:tensorflow:Model was constructed with shape (None, 160, 160, 3) for input Tensor(\"input_1_41:0\", shape=(None, 160, 160, 3), dtype=float32), but it was called on an input with incompatible shape (None, 276, 221, 3).\n",
            "ExpiringDict([('Khush', 1)])\n",
            "WARNING:tensorflow:No training configuration found in the save file, so the model was *not* compiled. Compile it manually.\n",
            "WARNING:tensorflow:Model was constructed with shape (None, 160, 160, 3) for input Tensor(\"input_1_42:0\", shape=(None, 160, 160, 3), dtype=float32), but it was called on an input with incompatible shape (None, 278, 223, 3).\n",
            "ExpiringDict([('Khush', 1)])\n",
            "WARNING:tensorflow:No training configuration found in the save file, so the model was *not* compiled. Compile it manually.\n",
            "WARNING:tensorflow:Model was constructed with shape (None, 160, 160, 3) for input Tensor(\"input_1_43:0\", shape=(None, 160, 160, 3), dtype=float32), but it was called on an input with incompatible shape (None, 277, 221, 3).\n",
            "ExpiringDict([('Khush', 1)])\n",
            "WARNING:tensorflow:No training configuration found in the save file, so the model was *not* compiled. Compile it manually.\n",
            "WARNING:tensorflow:Model was constructed with shape (None, 160, 160, 3) for input Tensor(\"input_1_44:0\", shape=(None, 160, 160, 3), dtype=float32), but it was called on an input with incompatible shape (None, 273, 220, 3).\n",
            "ExpiringDict([('Khush', 1)])\n",
            "WARNING:tensorflow:No training configuration found in the save file, so the model was *not* compiled. Compile it manually.\n",
            "WARNING:tensorflow:Model was constructed with shape (None, 160, 160, 3) for input Tensor(\"input_1_45:0\", shape=(None, 160, 160, 3), dtype=float32), but it was called on an input with incompatible shape (None, 272, 220, 3).\n",
            "ExpiringDict([('Khush', 1)])\n",
            "WARNING:tensorflow:No training configuration found in the save file, so the model was *not* compiled. Compile it manually.\n",
            "WARNING:tensorflow:Model was constructed with shape (None, 160, 160, 3) for input Tensor(\"input_1_46:0\", shape=(None, 160, 160, 3), dtype=float32), but it was called on an input with incompatible shape (None, 283, 223, 3).\n",
            "ExpiringDict([('Khush', 1)])\n",
            "WARNING:tensorflow:No training configuration found in the save file, so the model was *not* compiled. Compile it manually.\n",
            "WARNING:tensorflow:Model was constructed with shape (None, 160, 160, 3) for input Tensor(\"input_1_47:0\", shape=(None, 160, 160, 3), dtype=float32), but it was called on an input with incompatible shape (None, 282, 225, 3).\n",
            "ExpiringDict([('Khush', 1)])\n",
            "WARNING:tensorflow:No training configuration found in the save file, so the model was *not* compiled. Compile it manually.\n",
            "WARNING:tensorflow:Model was constructed with shape (None, 160, 160, 3) for input Tensor(\"input_1_48:0\", shape=(None, 160, 160, 3), dtype=float32), but it was called on an input with incompatible shape (None, 293, 229, 3).\n",
            "ExpiringDict([('Khush', 1)])\n",
            "WARNING:tensorflow:No training configuration found in the save file, so the model was *not* compiled. Compile it manually.\n",
            "WARNING:tensorflow:Model was constructed with shape (None, 160, 160, 3) for input Tensor(\"input_1_49:0\", shape=(None, 160, 160, 3), dtype=float32), but it was called on an input with incompatible shape (None, 295, 229, 3).\n",
            "ExpiringDict([('Khush', 1)])\n",
            "WARNING:tensorflow:No training configuration found in the save file, so the model was *not* compiled. Compile it manually.\n",
            "WARNING:tensorflow:Model was constructed with shape (None, 160, 160, 3) for input Tensor(\"input_1_50:0\", shape=(None, 160, 160, 3), dtype=float32), but it was called on an input with incompatible shape (None, 295, 229, 3).\n",
            "ExpiringDict([('Khush', 1)])\n",
            "WARNING:tensorflow:No training configuration found in the save file, so the model was *not* compiled. Compile it manually.\n",
            "WARNING:tensorflow:Model was constructed with shape (None, 160, 160, 3) for input Tensor(\"input_1_51:0\", shape=(None, 160, 160, 3), dtype=float32), but it was called on an input with incompatible shape (None, 296, 228, 3).\n",
            "ExpiringDict([('Khush', 1)])\n",
            "WARNING:tensorflow:No training configuration found in the save file, so the model was *not* compiled. Compile it manually.\n",
            "WARNING:tensorflow:Model was constructed with shape (None, 160, 160, 3) for input Tensor(\"input_1_52:0\", shape=(None, 160, 160, 3), dtype=float32), but it was called on an input with incompatible shape (None, 296, 229, 3).\n",
            "ExpiringDict([('Khush', 1)])\n",
            "WARNING:tensorflow:No training configuration found in the save file, so the model was *not* compiled. Compile it manually.\n",
            "WARNING:tensorflow:Model was constructed with shape (None, 160, 160, 3) for input Tensor(\"input_1_53:0\", shape=(None, 160, 160, 3), dtype=float32), but it was called on an input with incompatible shape (None, 296, 228, 3).\n",
            "ExpiringDict([('Khush', 1)])\n",
            "WARNING:tensorflow:No training configuration found in the save file, so the model was *not* compiled. Compile it manually.\n",
            "WARNING:tensorflow:Model was constructed with shape (None, 160, 160, 3) for input Tensor(\"input_1_54:0\", shape=(None, 160, 160, 3), dtype=float32), but it was called on an input with incompatible shape (None, 303, 232, 3).\n",
            "ExpiringDict([('Khush', 1)])\n",
            "WARNING:tensorflow:No training configuration found in the save file, so the model was *not* compiled. Compile it manually.\n",
            "WARNING:tensorflow:Model was constructed with shape (None, 160, 160, 3) for input Tensor(\"input_1_55:0\", shape=(None, 160, 160, 3), dtype=float32), but it was called on an input with incompatible shape (None, 289, 228, 3).\n",
            "ExpiringDict([('Khush', 1)])\n",
            "WARNING:tensorflow:No training configuration found in the save file, so the model was *not* compiled. Compile it manually.\n",
            "WARNING:tensorflow:Model was constructed with shape (None, 160, 160, 3) for input Tensor(\"input_1_56:0\", shape=(None, 160, 160, 3), dtype=float32), but it was called on an input with incompatible shape (None, 288, 227, 3).\n",
            "ExpiringDict([('Khush', 1)])\n",
            "WARNING:tensorflow:No training configuration found in the save file, so the model was *not* compiled. Compile it manually.\n",
            "WARNING:tensorflow:Model was constructed with shape (None, 160, 160, 3) for input Tensor(\"input_1_57:0\", shape=(None, 160, 160, 3), dtype=float32), but it was called on an input with incompatible shape (None, 288, 227, 3).\n",
            "ExpiringDict([('Khush', 1)])\n",
            "WARNING:tensorflow:No training configuration found in the save file, so the model was *not* compiled. Compile it manually.\n",
            "WARNING:tensorflow:Model was constructed with shape (None, 160, 160, 3) for input Tensor(\"input_1_58:0\", shape=(None, 160, 160, 3), dtype=float32), but it was called on an input with incompatible shape (None, 289, 228, 3).\n",
            "ExpiringDict([('Khush', 1)])\n",
            "WARNING:tensorflow:No training configuration found in the save file, so the model was *not* compiled. Compile it manually.\n",
            "WARNING:tensorflow:Model was constructed with shape (None, 160, 160, 3) for input Tensor(\"input_1_59:0\", shape=(None, 160, 160, 3), dtype=float32), but it was called on an input with incompatible shape (None, 291, 227, 3).\n",
            "ExpiringDict([('Khush', 1)])\n",
            "WARNING:tensorflow:No training configuration found in the save file, so the model was *not* compiled. Compile it manually.\n",
            "WARNING:tensorflow:Model was constructed with shape (None, 160, 160, 3) for input Tensor(\"input_1_60:0\", shape=(None, 160, 160, 3), dtype=float32), but it was called on an input with incompatible shape (None, 288, 227, 3).\n",
            "ExpiringDict([('Khush', 1)])\n",
            "WARNING:tensorflow:No training configuration found in the save file, so the model was *not* compiled. Compile it manually.\n",
            "WARNING:tensorflow:Model was constructed with shape (None, 160, 160, 3) for input Tensor(\"input_1_61:0\", shape=(None, 160, 160, 3), dtype=float32), but it was called on an input with incompatible shape (None, 287, 227, 3).\n",
            "ExpiringDict([('Khush', 1)])\n",
            "WARNING:tensorflow:No training configuration found in the save file, so the model was *not* compiled. Compile it manually.\n",
            "WARNING:tensorflow:Model was constructed with shape (None, 160, 160, 3) for input Tensor(\"input_1_62:0\", shape=(None, 160, 160, 3), dtype=float32), but it was called on an input with incompatible shape (None, 288, 228, 3).\n",
            "ExpiringDict([('Khush', 1)])\n",
            "WARNING:tensorflow:No training configuration found in the save file, so the model was *not* compiled. Compile it manually.\n",
            "WARNING:tensorflow:Model was constructed with shape (None, 160, 160, 3) for input Tensor(\"input_1_63:0\", shape=(None, 160, 160, 3), dtype=float32), but it was called on an input with incompatible shape (None, 288, 228, 3).\n",
            "ExpiringDict([('Khush', 1)])\n",
            "WARNING:tensorflow:No training configuration found in the save file, so the model was *not* compiled. Compile it manually.\n",
            "WARNING:tensorflow:Model was constructed with shape (None, 160, 160, 3) for input Tensor(\"input_1_64:0\", shape=(None, 160, 160, 3), dtype=float32), but it was called on an input with incompatible shape (None, 293, 230, 3).\n",
            "ExpiringDict([('Khush', 1)])\n",
            "WARNING:tensorflow:No training configuration found in the save file, so the model was *not* compiled. Compile it manually.\n",
            "WARNING:tensorflow:Model was constructed with shape (None, 160, 160, 3) for input Tensor(\"input_1_65:0\", shape=(None, 160, 160, 3), dtype=float32), but it was called on an input with incompatible shape (None, 298, 230, 3).\n",
            "ExpiringDict([('Khush', 1)])\n",
            "WARNING:tensorflow:No training configuration found in the save file, so the model was *not* compiled. Compile it manually.\n",
            "WARNING:tensorflow:Model was constructed with shape (None, 160, 160, 3) for input Tensor(\"input_1_66:0\", shape=(None, 160, 160, 3), dtype=float32), but it was called on an input with incompatible shape (None, 298, 230, 3).\n",
            "ExpiringDict([('Khush', 1)])\n",
            "WARNING:tensorflow:No training configuration found in the save file, so the model was *not* compiled. Compile it manually.\n",
            "WARNING:tensorflow:Model was constructed with shape (None, 160, 160, 3) for input Tensor(\"input_1_67:0\", shape=(None, 160, 160, 3), dtype=float32), but it was called on an input with incompatible shape (None, 296, 229, 3).\n",
            "ExpiringDict([('Khush', 1)])\n",
            "WARNING:tensorflow:No training configuration found in the save file, so the model was *not* compiled. Compile it manually.\n",
            "WARNING:tensorflow:Model was constructed with shape (None, 160, 160, 3) for input Tensor(\"input_1_68:0\", shape=(None, 160, 160, 3), dtype=float32), but it was called on an input with incompatible shape (None, 298, 229, 3).\n",
            "ExpiringDict([('Khush', 1)])\n",
            "WARNING:tensorflow:No training configuration found in the save file, so the model was *not* compiled. Compile it manually.\n",
            "WARNING:tensorflow:Model was constructed with shape (None, 160, 160, 3) for input Tensor(\"input_1_69:0\", shape=(None, 160, 160, 3), dtype=float32), but it was called on an input with incompatible shape (None, 298, 227, 3).\n",
            "ExpiringDict([('Khush', 1)])\n",
            "WARNING:tensorflow:No training configuration found in the save file, so the model was *not* compiled. Compile it manually.\n",
            "WARNING:tensorflow:Model was constructed with shape (None, 160, 160, 3) for input Tensor(\"input_1_70:0\", shape=(None, 160, 160, 3), dtype=float32), but it was called on an input with incompatible shape (None, 301, 231, 3).\n",
            "ExpiringDict([('Khush', 1)])\n",
            "WARNING:tensorflow:No training configuration found in the save file, so the model was *not* compiled. Compile it manually.\n",
            "WARNING:tensorflow:Model was constructed with shape (None, 160, 160, 3) for input Tensor(\"input_1_71:0\", shape=(None, 160, 160, 3), dtype=float32), but it was called on an input with incompatible shape (None, 294, 225, 3).\n",
            "ExpiringDict([('Khush', 1)])\n",
            "WARNING:tensorflow:No training configuration found in the save file, so the model was *not* compiled. Compile it manually.\n",
            "WARNING:tensorflow:Model was constructed with shape (None, 160, 160, 3) for input Tensor(\"input_1_72:0\", shape=(None, 160, 160, 3), dtype=float32), but it was called on an input with incompatible shape (None, 301, 231, 3).\n",
            "ExpiringDict([('Khush', 1)])\n",
            "WARNING:tensorflow:No training configuration found in the save file, so the model was *not* compiled. Compile it manually.\n",
            "WARNING:tensorflow:Model was constructed with shape (None, 160, 160, 3) for input Tensor(\"input_1_73:0\", shape=(None, 160, 160, 3), dtype=float32), but it was called on an input with incompatible shape (None, 297, 232, 3).\n",
            "ExpiringDict([('Khush', 1)])\n",
            "WARNING:tensorflow:No training configuration found in the save file, so the model was *not* compiled. Compile it manually.\n",
            "WARNING:tensorflow:Model was constructed with shape (None, 160, 160, 3) for input Tensor(\"input_1_74:0\", shape=(None, 160, 160, 3), dtype=float32), but it was called on an input with incompatible shape (None, 299, 231, 3).\n",
            "ExpiringDict([('Khush', 1)])\n",
            "WARNING:tensorflow:No training configuration found in the save file, so the model was *not* compiled. Compile it manually.\n",
            "WARNING:tensorflow:Model was constructed with shape (None, 160, 160, 3) for input Tensor(\"input_1_75:0\", shape=(None, 160, 160, 3), dtype=float32), but it was called on an input with incompatible shape (None, 299, 231, 3).\n",
            "ExpiringDict([('Khush', 1)])\n",
            "WARNING:tensorflow:No training configuration found in the save file, so the model was *not* compiled. Compile it manually.\n",
            "WARNING:tensorflow:Model was constructed with shape (None, 160, 160, 3) for input Tensor(\"input_1_76:0\", shape=(None, 160, 160, 3), dtype=float32), but it was called on an input with incompatible shape (None, 300, 231, 3).\n",
            "ExpiringDict([('Khush', 1)])\n",
            "WARNING:tensorflow:No training configuration found in the save file, so the model was *not* compiled. Compile it manually.\n",
            "WARNING:tensorflow:Model was constructed with shape (None, 160, 160, 3) for input Tensor(\"input_1_77:0\", shape=(None, 160, 160, 3), dtype=float32), but it was called on an input with incompatible shape (None, 298, 230, 3).\n",
            "ExpiringDict([('Khush', 1)])\n",
            "WARNING:tensorflow:No training configuration found in the save file, so the model was *not* compiled. Compile it manually.\n",
            "WARNING:tensorflow:Model was constructed with shape (None, 160, 160, 3) for input Tensor(\"input_1_78:0\", shape=(None, 160, 160, 3), dtype=float32), but it was called on an input with incompatible shape (None, 296, 229, 3).\n",
            "ExpiringDict([('Khush', 1)])\n",
            "WARNING:tensorflow:No training configuration found in the save file, so the model was *not* compiled. Compile it manually.\n",
            "WARNING:tensorflow:Model was constructed with shape (None, 160, 160, 3) for input Tensor(\"input_1_79:0\", shape=(None, 160, 160, 3), dtype=float32), but it was called on an input with incompatible shape (None, 296, 229, 3).\n",
            "ExpiringDict([('Khush', 1)])\n",
            "WARNING:tensorflow:No training configuration found in the save file, so the model was *not* compiled. Compile it manually.\n",
            "WARNING:tensorflow:Model was constructed with shape (None, 160, 160, 3) for input Tensor(\"input_1_80:0\", shape=(None, 160, 160, 3), dtype=float32), but it was called on an input with incompatible shape (None, 296, 228, 3).\n",
            "ExpiringDict([('Khush', 1)])\n",
            "WARNING:tensorflow:No training configuration found in the save file, so the model was *not* compiled. Compile it manually.\n",
            "WARNING:tensorflow:Model was constructed with shape (None, 160, 160, 3) for input Tensor(\"input_1_81:0\", shape=(None, 160, 160, 3), dtype=float32), but it was called on an input with incompatible shape (None, 295, 227, 3).\n",
            "ExpiringDict([('Khush', 1)])\n",
            "WARNING:tensorflow:No training configuration found in the save file, so the model was *not* compiled. Compile it manually.\n",
            "WARNING:tensorflow:Model was constructed with shape (None, 160, 160, 3) for input Tensor(\"input_1_82:0\", shape=(None, 160, 160, 3), dtype=float32), but it was called on an input with incompatible shape (None, 295, 227, 3).\n",
            "ExpiringDict([('Khush', 1)])\n",
            "WARNING:tensorflow:No training configuration found in the save file, so the model was *not* compiled. Compile it manually.\n",
            "WARNING:tensorflow:Model was constructed with shape (None, 160, 160, 3) for input Tensor(\"input_1_83:0\", shape=(None, 160, 160, 3), dtype=float32), but it was called on an input with incompatible shape (None, 296, 228, 3).\n",
            "ExpiringDict([('Khush', 1)])\n",
            "WARNING:tensorflow:No training configuration found in the save file, so the model was *not* compiled. Compile it manually.\n",
            "WARNING:tensorflow:Model was constructed with shape (None, 160, 160, 3) for input Tensor(\"input_1_84:0\", shape=(None, 160, 160, 3), dtype=float32), but it was called on an input with incompatible shape (None, 294, 227, 3).\n",
            "ExpiringDict([('Khush', 1)])\n",
            "WARNING:tensorflow:No training configuration found in the save file, so the model was *not* compiled. Compile it manually.\n",
            "WARNING:tensorflow:Model was constructed with shape (None, 160, 160, 3) for input Tensor(\"input_1_85:0\", shape=(None, 160, 160, 3), dtype=float32), but it was called on an input with incompatible shape (None, 296, 229, 3).\n",
            "ExpiringDict([('Khush', 1)])\n",
            "WARNING:tensorflow:No training configuration found in the save file, so the model was *not* compiled. Compile it manually.\n",
            "WARNING:tensorflow:Model was constructed with shape (None, 160, 160, 3) for input Tensor(\"input_1_86:0\", shape=(None, 160, 160, 3), dtype=float32), but it was called on an input with incompatible shape (None, 293, 225, 3).\n",
            "ExpiringDict([('Khush', 1)])\n",
            "WARNING:tensorflow:No training configuration found in the save file, so the model was *not* compiled. Compile it manually.\n",
            "WARNING:tensorflow:Model was constructed with shape (None, 160, 160, 3) for input Tensor(\"input_1_87:0\", shape=(None, 160, 160, 3), dtype=float32), but it was called on an input with incompatible shape (None, 294, 226, 3).\n",
            "ExpiringDict([('Khush', 1)])\n",
            "WARNING:tensorflow:No training configuration found in the save file, so the model was *not* compiled. Compile it manually.\n",
            "WARNING:tensorflow:Model was constructed with shape (None, 160, 160, 3) for input Tensor(\"input_1_88:0\", shape=(None, 160, 160, 3), dtype=float32), but it was called on an input with incompatible shape (None, 292, 225, 3).\n",
            "ExpiringDict([('Khush', 1)])\n"
          ],
          "name": "stdout"
        }
      ]
    },
    {
      "cell_type": "code",
      "metadata": {
        "id": "LTBRTRmaFDwA"
      },
      "source": [
        ""
      ],
      "execution_count": null,
      "outputs": []
    }
  ]
}